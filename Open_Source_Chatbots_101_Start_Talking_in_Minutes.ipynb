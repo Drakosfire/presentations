{
  "cells": [
    {
      "cell_type": "markdown",
      "source": [
        "# Open Source Chatbots 101: Start Talking in Minutes\n",
        "**By Alan Meigs alan.meigs@gmail.com**\n",
        "\n",
        "- [Github Repos](https://github.com/Drakosfire?tab=repositories)\n",
        "\n",
        "- [DungeonMind - Generative AI Tools for Dungeons and Dragons](https://www.DungeonMind.net)\n",
        "\n",
        "- [BlueSky](@dungeonmind.bsky.social)\n",
        "\n",
        "- [LinkedIn](https://www.linkedin.com/in/alan-meigs/)\n",
        "\n",
        "This notebook was created for the [Software Freedom School](https://sofree.us/) Longmont in person Meetup on 2/1/2025.\n",
        "\n",
        "Shortened URL to this Notebook https://shorturl.at/2E4Pt\n"
      ],
      "metadata": {
        "id": "rcsVqy0rqdqg"
      }
    },
    {
      "cell_type": "markdown",
      "source": [
        "## Agenda\n",
        "\n",
        "\n",
        "1.   Introduction\n",
        "2.   How to use a notebook\n",
        "    - a. Getting Started\n",
        "    - b. Prepare the Enviornment\n",
        "3.   Basic Q&A Bot\n",
        "4.   Retrieval Augmented Generation\n",
        "5.   Function Calling\n",
        "6.   Vocabulary\n",
        "7.   License\n",
        "\n"
      ],
      "metadata": {
        "id": "_LMjzhC_oxxP"
      }
    },
    {
      "cell_type": "markdown",
      "source": [
        "# Introduction\n",
        "\n",
        "Hello! My name is Alan Meigs.\n",
        "\n",
        "I have been many things, from teacher, to marijuana farmer, to now aspiring developer. I fell in love with generative AI through pure spite and skepticism. My friends showed me AI generated images of DnD characters in the spring of 2023 and I thought they looked awful. In an effort to prove Generative AI was not the next big thing I learned how to run models on my powerful gaming computer. I quickly went from unimpressed to genuinely inspired, moving from generating images to training models.\n",
        "\n",
        "Since then I have been coding daily, expanding my skillset from novice with python to proficient, and teaching myself JavaScript and TypeScript. I went from someone who dreamed of reading research papers, to comfortably following along with some of the densest cutting edge papers. I've completed multiple projects combining image and text generation that you can find on my website DungeonMind. All of my code is open source, so you can completely duplicate almost anything I've built.  "
      ],
      "metadata": {
        "id": "DrgGFbvSsBhy"
      }
    },
    {
      "cell_type": "markdown",
      "source": [
        "## Getting Started with This Notebook"
      ],
      "metadata": {
        "id": "tQJgZ-YhvVsF"
      }
    },
    {
      "cell_type": "markdown",
      "source": [
        "Welcome to this hands-on tutorial, where we’ll walk through the essentials of spinning up an open-source Large Language Model (LLM) environment in Google Colab and quickly start chatting with it. Our focus is on leveraging entirely open-source solutions, from downloading the model weights to running inference in your own Colab session. By the end, you’ll:\n",
        "\n",
        "- Understand how to prepare a Colab environment for LLM deployment.\n",
        "- See how to load and run a quantized model (in GGUF format) locally.\n",
        "- Explore chat features like streaming responses and memory.\n",
        "- Get a quick introduction to Retrieval-Augmented Generation (RAG) workflows.\n",
        "- Take a look at function calling concepts with open-source LLMs."
      ],
      "metadata": {
        "id": "8JpOPri2oqtX"
      }
    },
    {
      "cell_type": "markdown",
      "source": [
        "1. **Review the Notebook**: You’ll see text explanations (like this) and blocks of code.\n",
        "2. **Run a Code Cell**: Hover your mouse over the left side of a code cell. Click the “▶” (play) button that appears, or press **Shift+Enter** on your keyboard. This will execute the code in that cell.\n",
        "3. **Proceed in Order**: Move to the next cell after the current one finishes running. If any cell asks for input, follow the instructions right in the cell’s output area.\n",
        " - a) **Caveat** This notebook assumes you are working in Google Colab and downloading the model for long term storage to google Drive. If you do not want to use Google Drive you will have to download the model everytime you use the notebook.  \n",
        "4. **Read the Text**: Above or below each cell, you’ll see explanations and directions on what the code does. This helps you understand the process step by step.\n",
        "5. **Explore**: Feel free to edit or re-run cells multiple times. Experimenting is the best way to learn!\n",
        "\n",
        "That’s it! Click “▶” (play) on the first cell to begin.\n"
      ],
      "metadata": {
        "id": "-DZkKDkvHILd"
      }
    },
    {
      "cell_type": "markdown",
      "metadata": {
        "id": "Rx2d1cU00vZl"
      },
      "source": [
        "##**Prepare the Environment**\n",
        "Enable Free Tier GPU in Colab\n",
        "\n",
        "- Click “Runtime” in the Colab menu bar.\n",
        "Select “Change runtime type.”\n",
        "Choose “GPU” under Hardware accelerator (T4 GPU is typical in the free tier).\n",
        "\n",
        "Why?\n",
        "\n",
        "- RAM Limits: Google Colab’s free tier offers roughly 12–16GB of system RAM. This will limit the size of LLMs you can run. Models in the range of 7B to 13B parameters are typically feasible. Larger models (30B, 70B, etc.) generally won’t fit in the free tier.\n",
        "GPU Memory: A T4 GPU often has 12–15GB of VRAM. This will affect how many layers you can offload to the GPU (or if you can offload them all).\n",
        "\n",
        "Below, we confirm that we do indeed have a GPU (like a T4) available:"
      ]
    },
    {
      "cell_type": "markdown",
      "metadata": {
        "id": "f7Pyyhws1pPK"
      },
      "source": [
        "###**Check to ensure CUDA drivers are installed**"
      ]
    },
    {
      "cell_type": "code",
      "execution_count": null,
      "metadata": {
        "id": "xYX4Xp_t0MhY",
        "colab": {
          "base_uri": "https://localhost:8080/"
        },
        "outputId": "e154dfe3-1e0f-4a60-b233-6e3caa8170d0"
      },
      "outputs": [
        {
          "output_type": "stream",
          "name": "stdout",
          "text": [
            "Sat Feb  1 16:45:43 2025       \n",
            "+-----------------------------------------------------------------------------------------+\n",
            "| NVIDIA-SMI 550.54.15              Driver Version: 550.54.15      CUDA Version: 12.4     |\n",
            "|-----------------------------------------+------------------------+----------------------+\n",
            "| GPU  Name                 Persistence-M | Bus-Id          Disp.A | Volatile Uncorr. ECC |\n",
            "| Fan  Temp   Perf          Pwr:Usage/Cap |           Memory-Usage | GPU-Util  Compute M. |\n",
            "|                                         |                        |               MIG M. |\n",
            "|=========================================+========================+======================|\n",
            "|   0  Tesla T4                       Off |   00000000:00:04.0 Off |                    0 |\n",
            "| N/A   47C    P8             10W /   70W |       0MiB /  15360MiB |      0%      Default |\n",
            "|                                         |                        |                  N/A |\n",
            "+-----------------------------------------+------------------------+----------------------+\n",
            "                                                                                         \n",
            "+-----------------------------------------------------------------------------------------+\n",
            "| Processes:                                                                              |\n",
            "|  GPU   GI   CI        PID   Type   Process name                              GPU Memory |\n",
            "|        ID   ID                                                               Usage      |\n",
            "|=========================================================================================|\n",
            "|  No running processes found                                                             |\n",
            "+-----------------------------------------------------------------------------------------+\n"
          ]
        }
      ],
      "source": [
        "!nvidia-smi\n"
      ]
    },
    {
      "cell_type": "markdown",
      "source": [],
      "metadata": {
        "id": "SHRmcoG4wmuV"
      }
    },
    {
      "cell_type": "code",
      "source": [
        "# Assign File Paths\n",
        "import os, sys\n",
        "nb_path = '/content/notebooks'"
      ],
      "metadata": {
        "id": "D600XGnsHmB5"
      },
      "execution_count": null,
      "outputs": []
    },
    {
      "cell_type": "markdown",
      "source": [
        "###**Mount Google Drive for Storage**\n",
        "\n",
        "**Optional This is to shorten the download time for the model ~6 Gb if you intend to use this notebook multiple times. **\n",
        "\n",
        "By mounting Google Drive, you can store model files and avoid redownloading them each session. This is especially handy with quantized model files that can still be several gigabytes.\n",
        "\n",
        "- Mount the drive, and create a symlink (shortcut) to simplify referencing the Colab Notebooks folder."
      ],
      "metadata": {
        "id": "GJ1ZFg8ppg9M"
      }
    },
    {
      "cell_type": "code",
      "execution_count": null,
      "metadata": {
        "id": "jRbtGBoidbz4",
        "colab": {
          "base_uri": "https://localhost:8080/"
        },
        "outputId": "980c94b8-6080-4e9b-8a6d-12b848c16b20"
      },
      "outputs": [
        {
          "output_type": "stream",
          "name": "stdout",
          "text": [
            "Drive already mounted at /content/drive; to attempt to forcibly remount, call drive.mount(\"/content/drive\", force_remount=True).\n"
          ]
        }
      ],
      "source": [
        "# Optional if you want to save the model\n",
        "from google.colab import drive\n",
        "drive.mount('/content/drive')\n",
        "os.symlink('/content/drive/My Drive/Colab Notebooks', nb_path)\n",
        "sys.path.insert(0,nb_path)"
      ]
    },
    {
      "cell_type": "markdown",
      "metadata": {
        "id": "ZK8uCxrQ1uvq"
      },
      "source": [
        "###**Install llama.cpp for model inference**\n",
        "\n",
        "- llama-cpp-python is a Python wrapper for the llama.cpp project.\n",
        "We choose a specific wheel (in this example, CUDA 12.4 support) that matches the T4 runtime on Colab.\n",
        "This will also install huggingface-hub and other dependencies.\n",
        "\n",
        "GGUF Format\n",
        "\n",
        "The GGUF format is a quantized model format used by llama.cpp. It drastically reduces model size and memory usage, enabling us to run 7B–13B models on consumer hardware or limited Colab GPU memory.\n",
        "\n",
        "After installing, we can verify the version with:"
      ]
    },
    {
      "cell_type": "code",
      "source": [
        "#Install llama-cpp-python this is a tested and verified build that works with Colab\n",
        "!pip install --no-cache-dir llama-cpp-python==0.2.77 --extra-index-url https://abetlen.github.io/llama-cpp-python/whl/cu124"
      ],
      "metadata": {
        "id": "k7bnldi49NHD",
        "colab": {
          "base_uri": "https://localhost:8080/"
        },
        "outputId": "6276aae9-a742-4fbb-af62-4938310463c0"
      },
      "execution_count": null,
      "outputs": [
        {
          "output_type": "stream",
          "name": "stdout",
          "text": [
            "Looking in indexes: https://pypi.org/simple, https://abetlen.github.io/llama-cpp-python/whl/cu124\n",
            "Collecting llama-cpp-python==0.2.77\n",
            "  Downloading https://github.com/abetlen/llama-cpp-python/releases/download/v0.2.77-cu124/llama_cpp_python-0.2.77-cp311-cp311-linux_x86_64.whl (316.4 MB)\n",
            "\u001b[2K     \u001b[90m━━━━━━━━━━━━━━━━━━━━━━━━━━━━━━━━━━━━━━━━\u001b[0m \u001b[32m316.4/316.4 MB\u001b[0m \u001b[31m47.9 MB/s\u001b[0m eta \u001b[36m0:00:00\u001b[0m\n",
            "\u001b[?25hRequirement already satisfied: typing-extensions>=4.5.0 in /usr/local/lib/python3.11/dist-packages (from llama-cpp-python==0.2.77) (4.12.2)\n",
            "Requirement already satisfied: numpy>=1.20.0 in /usr/local/lib/python3.11/dist-packages (from llama-cpp-python==0.2.77) (1.26.4)\n",
            "Collecting diskcache>=5.6.1 (from llama-cpp-python==0.2.77)\n",
            "  Downloading diskcache-5.6.3-py3-none-any.whl.metadata (20 kB)\n",
            "Requirement already satisfied: jinja2>=2.11.3 in /usr/local/lib/python3.11/dist-packages (from llama-cpp-python==0.2.77) (3.1.5)\n",
            "Requirement already satisfied: MarkupSafe>=2.0 in /usr/local/lib/python3.11/dist-packages (from jinja2>=2.11.3->llama-cpp-python==0.2.77) (3.0.2)\n",
            "Downloading diskcache-5.6.3-py3-none-any.whl (45 kB)\n",
            "\u001b[2K   \u001b[90m━━━━━━━━━━━━━━━━━━━━━━━━━━━━━━━━━━━━━━━━\u001b[0m \u001b[32m45.5/45.5 kB\u001b[0m \u001b[31m7.4 MB/s\u001b[0m eta \u001b[36m0:00:00\u001b[0m\n",
            "\u001b[?25hInstalling collected packages: diskcache, llama-cpp-python\n",
            "Successfully installed diskcache-5.6.3 llama-cpp-python-0.2.77\n"
          ]
        }
      ]
    },
    {
      "cell_type": "code",
      "execution_count": null,
      "metadata": {
        "id": "VIepJQ4b2qYd",
        "colab": {
          "base_uri": "https://localhost:8080/"
        },
        "outputId": "eace5012-b58d-4ad1-b28d-6530a031231b"
      },
      "outputs": [
        {
          "output_type": "stream",
          "name": "stdout",
          "text": [
            "llama_cpp version: 0.2.77\n",
            "Name: llama_cpp_python\n",
            "Version: 0.2.77\n",
            "Summary: Python bindings for the llama.cpp library\n",
            "Home-page: https://github.com/abetlen/llama-cpp-python\n",
            "Author: \n",
            "Author-email: Andrei Betlen <abetlen@gmail.com>\n",
            "License: MIT\n",
            "Location: /usr/local/lib/python3.11/dist-packages\n",
            "Requires: diskcache, jinja2, numpy, typing-extensions\n",
            "Required-by: \n"
          ]
        }
      ],
      "source": [
        "import llama_cpp\n",
        "print(\"llama_cpp version:\", llama_cpp.__version__)\n",
        "\n",
        "!pip show llama-cpp-python"
      ]
    },
    {
      "cell_type": "markdown",
      "metadata": {
        "id": "q3YKYqp9-Gbq"
      },
      "source": [
        "###**Download the Model**\n",
        "\n",
        "Here, we download the OpenCoder-8B-Instruct-Q6_K_L.gguf model from Hugging Face if it’s not already present in our notebooks folder:\n",
        "\n",
        "- Check if the file (.gguf) already exists.\n",
        "If not, we download from Hugging Face using the ```hf_hub_download``` function.\n",
        "This step can take several minutes, depending on file size (typically multiple gigabytes).\n",
        "\n",
        "\n"
      ]
    },
    {
      "cell_type": "code",
      "execution_count": null,
      "metadata": {
        "id": "xak85fPJ5RBl",
        "colab": {
          "base_uri": "https://localhost:8080/"
        },
        "outputId": "a3edec25-886e-4309-c3a1-93c476674dd2"
      },
      "outputs": [
        {
          "output_type": "stream",
          "name": "stdout",
          "text": [
            "'OpenCoder-8B-Instruct-Q6_K_L.gguf' is already present in '/content/notebooks'.\n"
          ]
        }
      ],
      "source": [
        "from huggingface_hub import hf_hub_download\n",
        "import os\n",
        "\n",
        "file_name = \"OpenCoder-8B-Instruct-Q6_K_L.gguf\"\n",
        "llm_file_path = os.path.join(nb_path, file_name)\n",
        "\n",
        "if os.path.isfile(llm_file_path):\n",
        "    print(f\"'{file_name}' is already present in '{nb_path}'.\")\n",
        "else:\n",
        "    print(f\"'{file_name}' not found. Downloading now...\")\n",
        "    llm_model_path = hf_hub_download(\n",
        "        repo_id=\"bartowski/OpenCoder-8B-Instruct-GGUF\",\n",
        "        filename=file_name,\n",
        "        revision=\"main\",\n",
        "        local_dir=nb_path\n",
        "    )\n",
        "    print(\"Model downloaded to:\", llm_model_path)\n"
      ]
    },
    {
      "cell_type": "markdown",
      "source": [
        "###**Mount the Model**\n",
        "\n",
        "This step loads the quantized model weights into memory. Once done, we can query it."
      ],
      "metadata": {
        "id": "UFkhzZdQpLf-"
      }
    },
    {
      "cell_type": "code",
      "execution_count": null,
      "metadata": {
        "id": "Qcp-iZKU_Sz7",
        "collapsed": true,
        "colab": {
          "base_uri": "https://localhost:8080/"
        },
        "outputId": "e2b39625-3ae0-45b5-bfb3-45ad8a83a16c"
      },
      "outputs": [
        {
          "output_type": "stream",
          "name": "stderr",
          "text": [
            "llama_model_loader: loaded meta data with 41 key-value pairs and 291 tensors from /content/notebooks/OpenCoder-8B-Instruct-Q6_K_L.gguf (version GGUF V3 (latest))\n",
            "llama_model_loader: Dumping metadata keys/values. Note: KV overrides do not apply in this output.\n",
            "llama_model_loader: - kv   0:                       general.architecture str              = llama\n",
            "llama_model_loader: - kv   1:                               general.type str              = model\n",
            "llama_model_loader: - kv   2:                               general.name str              = OpenCoder 8B Instruct\n",
            "llama_model_loader: - kv   3:                           general.finetune str              = Instruct\n",
            "llama_model_loader: - kv   4:                           general.basename str              = OpenCoder\n",
            "llama_model_loader: - kv   5:                         general.size_label str              = 8B\n",
            "llama_model_loader: - kv   6:                            general.license str              = other\n",
            "llama_model_loader: - kv   7:                       general.license.name str              = inf\n",
            "llama_model_loader: - kv   8:                       general.license.link str              = https://huggingface.co/infly/OpenCode...\n",
            "llama_model_loader: - kv   9:                   general.base_model.count u32              = 1\n",
            "llama_model_loader: - kv  10:                  general.base_model.0.name str              = OpenCoder 8B Base\n",
            "llama_model_loader: - kv  11:          general.base_model.0.organization str              = Infly\n",
            "llama_model_loader: - kv  12:              general.base_model.0.repo_url str              = https://huggingface.co/infly/OpenCode...\n",
            "llama_model_loader: - kv  13:                               general.tags arr[str,1]       = [\"text-generation\"]\n",
            "llama_model_loader: - kv  14:                          general.languages arr[str,2]       = [\"en\", \"zh\"]\n",
            "llama_model_loader: - kv  15:                           general.datasets arr[str,2]       = [\"OpenCoder-LLM/opencoder-sft-stage1\"...\n",
            "llama_model_loader: - kv  16:                          llama.block_count u32              = 32\n",
            "llama_model_loader: - kv  17:                       llama.context_length u32              = 8192\n",
            "llama_model_loader: - kv  18:                     llama.embedding_length u32              = 4096\n",
            "llama_model_loader: - kv  19:                  llama.feed_forward_length u32              = 14336\n",
            "llama_model_loader: - kv  20:                 llama.attention.head_count u32              = 32\n",
            "llama_model_loader: - kv  21:              llama.attention.head_count_kv u32              = 8\n",
            "llama_model_loader: - kv  22:                       llama.rope.freq_base f32              = 500000.000000\n",
            "llama_model_loader: - kv  23:     llama.attention.layer_norm_rms_epsilon f32              = 0.000010\n",
            "llama_model_loader: - kv  24:                          general.file_type u32              = 18\n",
            "llama_model_loader: - kv  25:                           llama.vocab_size u32              = 96640\n",
            "llama_model_loader: - kv  26:                 llama.rope.dimension_count u32              = 128\n",
            "llama_model_loader: - kv  27:                       tokenizer.ggml.model str              = llama\n",
            "llama_model_loader: - kv  28:                         tokenizer.ggml.pre str              = default\n",
            "llama_model_loader: - kv  29:                      tokenizer.ggml.tokens arr[str,96640]   = [\"<unk>\", \"<s>\", \"</s>\", \"<pad>\", \"<0...\n",
            "llama_model_loader: - kv  30:                      tokenizer.ggml.scores arr[f32,96640]   = [-1000.000000, -1000.000000, -1000.00...\n",
            "llama_model_loader: - kv  31:                  tokenizer.ggml.token_type arr[i32,96640]   = [3, 3, 3, 3, 6, 6, 6, 6, 6, 6, 6, 6, ...\n",
            "llama_model_loader: - kv  32:                tokenizer.ggml.bos_token_id u32              = 96540\n",
            "llama_model_loader: - kv  33:                tokenizer.ggml.eos_token_id u32              = 96539\n",
            "llama_model_loader: - kv  34:                    tokenizer.chat_template str              = {% for message in messages %}{% if lo...\n",
            "llama_model_loader: - kv  35:            tokenizer.ggml.add_space_prefix bool             = false\n",
            "llama_model_loader: - kv  36:               general.quantization_version u32              = 2\n",
            "llama_model_loader: - kv  37:                      quantize.imatrix.file str              = /models_out/OpenCoder-8B-Instruct-GGU...\n",
            "llama_model_loader: - kv  38:                   quantize.imatrix.dataset str              = /training_dir/calibration_datav3.txt\n",
            "llama_model_loader: - kv  39:             quantize.imatrix.entries_count i32              = 224\n",
            "llama_model_loader: - kv  40:              quantize.imatrix.chunks_count i32              = 133\n",
            "llama_model_loader: - type  f32:   65 tensors\n",
            "llama_model_loader: - type q8_0:    2 tensors\n",
            "llama_model_loader: - type q6_K:  224 tensors\n",
            "llm_load_vocab: special tokens cache size = 401\n",
            "llm_load_vocab: token to piece cache size = 0.5697 MB\n",
            "llm_load_print_meta: format           = GGUF V3 (latest)\n",
            "llm_load_print_meta: arch             = llama\n",
            "llm_load_print_meta: vocab type       = SPM\n",
            "llm_load_print_meta: n_vocab          = 96640\n",
            "llm_load_print_meta: n_merges         = 0\n",
            "llm_load_print_meta: n_ctx_train      = 8192\n",
            "llm_load_print_meta: n_embd           = 4096\n",
            "llm_load_print_meta: n_head           = 32\n",
            "llm_load_print_meta: n_head_kv        = 8\n",
            "llm_load_print_meta: n_layer          = 32\n",
            "llm_load_print_meta: n_rot            = 128\n",
            "llm_load_print_meta: n_embd_head_k    = 128\n",
            "llm_load_print_meta: n_embd_head_v    = 128\n",
            "llm_load_print_meta: n_gqa            = 4\n",
            "llm_load_print_meta: n_embd_k_gqa     = 1024\n",
            "llm_load_print_meta: n_embd_v_gqa     = 1024\n",
            "llm_load_print_meta: f_norm_eps       = 0.0e+00\n",
            "llm_load_print_meta: f_norm_rms_eps   = 1.0e-05\n",
            "llm_load_print_meta: f_clamp_kqv      = 0.0e+00\n",
            "llm_load_print_meta: f_max_alibi_bias = 0.0e+00\n",
            "llm_load_print_meta: f_logit_scale    = 0.0e+00\n",
            "llm_load_print_meta: n_ff             = 14336\n",
            "llm_load_print_meta: n_expert         = 0\n",
            "llm_load_print_meta: n_expert_used    = 0\n",
            "llm_load_print_meta: causal attn      = 1\n",
            "llm_load_print_meta: pooling type     = 0\n",
            "llm_load_print_meta: rope type        = 0\n",
            "llm_load_print_meta: rope scaling     = linear\n",
            "llm_load_print_meta: freq_base_train  = 500000.0\n",
            "llm_load_print_meta: freq_scale_train = 1\n",
            "llm_load_print_meta: n_yarn_orig_ctx  = 8192\n",
            "llm_load_print_meta: rope_finetuned   = unknown\n",
            "llm_load_print_meta: ssm_d_conv       = 0\n",
            "llm_load_print_meta: ssm_d_inner      = 0\n",
            "llm_load_print_meta: ssm_d_state      = 0\n",
            "llm_load_print_meta: ssm_dt_rank      = 0\n",
            "llm_load_print_meta: model type       = 8B\n",
            "llm_load_print_meta: model ftype      = Q6_K\n",
            "llm_load_print_meta: model params     = 7.77 B\n",
            "llm_load_print_meta: model size       = 6.12 GiB (6.76 BPW) \n",
            "llm_load_print_meta: general.name     = OpenCoder 8B Instruct\n",
            "llm_load_print_meta: BOS token        = 96540 '<|im_start|>'\n",
            "llm_load_print_meta: EOS token        = 96539 '<|im_end|>'\n",
            "llm_load_print_meta: UNK token        = 0 '<unk>'\n",
            "llm_load_print_meta: LF token         = 14 '<0x0A>'\n",
            "llm_load_print_meta: PRE token        = 32007 '▁Christianity'\n",
            "llm_load_print_meta: SUF token        = 32008 '▁customize'\n",
            "llm_load_print_meta: MID token        = 32009 '▁cipher'\n",
            "llm_load_print_meta: EOT token        = 32010 '▁dod'\n",
            "ggml_cuda_init: GGML_CUDA_FORCE_MMQ:   yes\n",
            "ggml_cuda_init: CUDA_USE_TENSOR_CORES: no\n",
            "ggml_cuda_init: found 1 CUDA devices:\n",
            "  Device 0: Tesla T4, compute capability 7.5, VMM: yes\n",
            "llm_load_tensors: ggml ctx size =    0.30 MiB\n",
            "llm_load_tensors: offloading 32 repeating layers to GPU\n",
            "llm_load_tensors: offloading non-repeating layers to GPU\n",
            "llm_load_tensors: offloaded 33/33 layers to GPU\n",
            "llm_load_tensors:        CPU buffer size =   401.09 MiB\n",
            "llm_load_tensors:      CUDA0 buffer size =  5862.11 MiB\n",
            "..........................................................................................\n",
            "llama_new_context_with_model: n_ctx      = 512\n",
            "llama_new_context_with_model: n_batch    = 512\n",
            "llama_new_context_with_model: n_ubatch   = 512\n",
            "llama_new_context_with_model: flash_attn = 0\n",
            "llama_new_context_with_model: freq_base  = 500000.0\n",
            "llama_new_context_with_model: freq_scale = 1\n",
            "llama_kv_cache_init:      CUDA0 KV buffer size =    64.00 MiB\n",
            "llama_new_context_with_model: KV self size  =   64.00 MiB, K (f16):   32.00 MiB, V (f16):   32.00 MiB\n",
            "llama_new_context_with_model:  CUDA_Host  output buffer size =     0.37 MiB\n",
            "llama_new_context_with_model:      CUDA0 compute buffer size =   196.75 MiB\n",
            "llama_new_context_with_model:  CUDA_Host compute buffer size =     9.01 MiB\n",
            "llama_new_context_with_model: graph nodes  = 1030\n",
            "llama_new_context_with_model: graph splits = 2\n",
            "AVX = 1 | AVX_VNNI = 0 | AVX2 = 1 | AVX512 = 0 | AVX512_VBMI = 0 | AVX512_VNNI = 0 | AVX512_BF16 = 0 | FMA = 1 | NEON = 0 | SVE = 0 | ARM_FMA = 0 | F16C = 1 | FP16_VA = 0 | WASM_SIMD = 0 | BLAS = 1 | SSE3 = 1 | SSSE3 = 1 | VSX = 0 | MATMUL_INT8 = 0 | LLAMAFILE = 1 | \n",
            "Model metadata: {'general.quantization_version': '2', 'general.base_model.0.repo_url': 'https://huggingface.co/infly/OpenCoder-8B-Base', 'general.license': 'other', 'tokenizer.chat_template': \"{% for message in messages %}{% if loop.first and messages[0]['role'] != 'system' %}{{ '<|im_start|>system\\nYou are OpenCoder, created by OpenCoder Team.<|im_end|>\\n' }}{% endif %}{{'<|im_start|>' + message['role'] + '\\n' + message['content'] + '<|im_end|>' + '\\n'}}{% endfor %}{% if add_generation_prompt %}{{ '<|im_start|>assistant\\n' }}{% endif %}\", 'general.license.name': 'inf', 'general.size_label': '8B', 'general.type': 'model', 'quantize.imatrix.dataset': '/training_dir/calibration_datav3.txt', 'general.base_model.0.name': 'OpenCoder 8B Base', 'quantize.imatrix.file': '/models_out/OpenCoder-8B-Instruct-GGUF/OpenCoder-8B-Instruct.imatrix', 'tokenizer.ggml.add_space_prefix': 'false', 'llama.rope.dimension_count': '128', 'quantize.imatrix.chunks_count': '133', 'llama.context_length': '8192', 'llama.embedding_length': '4096', 'general.basename': 'OpenCoder', 'general.architecture': 'llama', 'quantize.imatrix.entries_count': '224', 'llama.attention.head_count_kv': '8', 'general.base_model.count': '1', 'general.base_model.0.organization': 'Infly', 'llama.feed_forward_length': '14336', 'llama.block_count': '32', 'llama.attention.head_count': '32', 'general.name': 'OpenCoder 8B Instruct', 'tokenizer.ggml.bos_token_id': '96540', 'llama.rope.freq_base': '500000.000000', 'general.finetune': 'Instruct', 'general.file_type': '18', 'general.license.link': 'https://huggingface.co/infly/OpenCoder-8B-Instruct/blob/main/LICENSE', 'tokenizer.ggml.pre': 'default', 'llama.vocab_size': '96640', 'tokenizer.ggml.model': 'llama', 'llama.attention.layer_norm_rms_epsilon': '0.000010', 'tokenizer.ggml.eos_token_id': '96539'}\n",
            "Available chat formats from metadata: chat_template.default\n",
            "Using gguf chat template: {% for message in messages %}{% if loop.first and messages[0]['role'] != 'system' %}{{ '<|im_start|>system\n",
            "You are OpenCoder, created by OpenCoder Team.<|im_end|>\n",
            "' }}{% endif %}{{'<|im_start|>' + message['role'] + '\n",
            "' + message['content'] + '<|im_end|>' + '\n",
            "'}}{% endfor %}{% if add_generation_prompt %}{{ '<|im_start|>assistant\n",
            "' }}{% endif %}\n",
            "Using chat eos_token: <|im_end|>\n",
            "Using chat bos_token: <|im_start|>\n"
          ]
        }
      ],
      "source": [
        "from llama_cpp import Llama\n",
        "\n",
        "llm = Llama(\n",
        "      model_path=llm_file_path,\n",
        "      n_gpu_layers=-1, # -1 means all layers offloaded to GPU\n",
        "      # n_ctx=2048, # Uncomment to increase the context window\n",
        ")\n"
      ]
    },
    {
      "cell_type": "markdown",
      "source": [
        "## **Basic Q&A Bot**\n",
        "\n",
        "Testing the model with a simple prompt:\n",
        "\n",
        "- We ask, “What are you?”\n",
        "- We limit ```max_tokens``` to 32.\n",
        "- We can specify stopping sequences to avoid run-on answers.\n",
        "\n",
        "This quick test ensures everything is hooked up correctly—no errors means we can proceed.\n"
      ],
      "metadata": {
        "id": "bY59qQLnsNdG"
      }
    },
    {
      "cell_type": "code",
      "source": [
        "output = llm(\n",
        "      \"Q: What are you? A: \", # Prompt\n",
        "      max_tokens=32, # Generate up to 32 tokens, set to None to generate up to the end of the context window\n",
        "      stop=[\"Q:\", \"\\n\", \"``` \\n ```\"], # Stop generating just before the model would generate a new question\n",
        "      echo=True # Echo the prompt back in the output\n",
        ") # Generate a completion, can also call create_completion\n",
        "print(output)"
      ],
      "metadata": {
        "id": "UPr5LVRSpG1D",
        "colab": {
          "base_uri": "https://localhost:8080/"
        },
        "outputId": "37b1c755-bb41-4e75-be28-854b2f8f6470"
      },
      "execution_count": null,
      "outputs": [
        {
          "output_type": "stream",
          "name": "stderr",
          "text": [
            "\n",
            "llama_print_timings:        load time =     613.08 ms\n",
            "llama_print_timings:      sample time =      31.34 ms /    22 runs   (    1.42 ms per token,   701.91 tokens per second)\n",
            "llama_print_timings: prompt eval time =     612.99 ms /    10 tokens (   61.30 ms per token,    16.31 tokens per second)\n",
            "llama_print_timings:        eval time =     740.75 ms /    21 runs   (   35.27 ms per token,    28.35 tokens per second)\n",
            "llama_print_timings:       total time =    1401.38 ms /    31 tokens\n"
          ]
        },
        {
          "output_type": "stream",
          "name": "stdout",
          "text": [
            "{'id': 'cmpl-574146a3-a071-4c35-99ca-bf41cfa68204', 'object': 'text_completion', 'created': 1738429001, 'model': '/content/notebooks/OpenCoder-8B-Instruct-Q6_K_L.gguf', 'choices': [{'text': \"Q: What are you? A:  I'm an artificial intelligence, capable of understanding and generating human language through a complex combination of algorithms and data.\", 'index': 0, 'logprobs': None, 'finish_reason': 'stop'}], 'usage': {'prompt_tokens': 10, 'completion_tokens': 22, 'total_tokens': 32}}\n"
          ]
        }
      ]
    },
    {
      "cell_type": "markdown",
      "source": [
        "### **Clean Up the Output**\n",
        "\n",
        "We can reduce verbosity by setting\n",
        "\n",
        "verbose=False\n",
        "\n",
        "in the Llama constructor. Then we define a ```query_llm()``` function that:\n",
        "\n",
        "- Define a **system prompt** in the message parameter.\n",
        "    - A system prompt is a structure text models are trained on that defines how the LLM should respond.  \n",
        "- Receives a prompt.\n",
        "- Calls ```llm.create_chat_completion()``` with chosen parameters (like ```max_tokens```, ```top tokens```, etc.).\n",
        "- Returns a cleaned-up text response.\n",
        "\n"
      ],
      "metadata": {
        "id": "C7g7q2F9tGns"
      }
    },
    {
      "cell_type": "code",
      "source": [
        "\n",
        "llm = Llama(\n",
        "      model_path=llm_file_path,\n",
        "      n_gpu_layers=-1, # -1 means all layers offloaded to GPU\n",
        "      verbose=False,\n",
        "      n_ctx=2048, # Uncomment to increase the context window\n",
        ")\n",
        "\n",
        "def query_llm(prompt):\n",
        "  output=llm.create_chat_completion(\n",
        "      max_tokens=256,\n",
        "      stop=[\"Q:\",\"\\n ```\"],\n",
        "      messages = [\n",
        "          {\"role\": \"system\", \"content\": \"You are an AI that writes very efficient concise python code.\"},\n",
        "          {\n",
        "              \"role\": \"user\",\n",
        "              \"content\": prompt\n",
        "              }\n",
        "      ]\n",
        ")\n",
        "  return print(output['choices'][0]['message']['content'])"
      ],
      "metadata": {
        "id": "CWM1s3O9tdfh"
      },
      "execution_count": null,
      "outputs": []
    },
    {
      "cell_type": "code",
      "source": [
        "query_llm(\"write a poem about a quick sort algorithm in python.\")"
      ],
      "metadata": {
        "id": "hYYvfYlUuCIM",
        "colab": {
          "base_uri": "https://localhost:8080/"
        },
        "outputId": "68086d57-72f2-4aae-bf95-51e0d485619f"
      },
      "execution_count": null,
      "outputs": [
        {
          "output_type": "stream",
          "name": "stdout",
          "text": [
            "In the heart of sorting, QuickSort dwells,\n",
            "Divide and conquer it is named, with efficiency so high.\n",
            "First, you pick a pivot point, then you partition,\n",
            "Items less than pivot go to left, more to right.\n",
            "\n",
            "The recursion goes deeper, each time narrowing down,\n",
            "Until at last, your list is sorted in just a few steps.\n",
            "\n",
            "It's a simple yet powerful algorithm, QuickSort shows,\n",
            "With its efficiency, it's the go-to choice for many. \n",
            "\n",
            "So let's sort some data with QuickSort, shall we?\n",
            "```python\n",
            "def quick_sort(arr):\n",
            "    if len(arr) <= 1:\n",
            "        return arr\n",
            "    pivot = arr[len(arr) // 2]\n",
            "    left = [x for x in arr if x < pivot]\n",
            "    middle = [x for x in arr if x == pivot]\n",
            "    right = [x for x in arr if x > pivot]\n",
            "    return quick_sort(left) + middle + quick_sort(right)\n",
            "```\n",
            "```\n",
            "```python\n",
            "print(quick_sort([3,6,8,10,1,2,1]))\n",
            "# Output: [1, 1, 2, 3, 6, 8, 10]\n",
            "```\n",
            "```\n",
            "``\n"
          ]
        }
      ]
    },
    {
      "cell_type": "markdown",
      "source": [
        "### **Tuning Generation Settings**\n",
        "\n",
        "This is messy and it doesn't stop until it runs into the 256 token limit.\n",
        "\n",
        "- Repeat Penalty: Increases penalty on repetitive tokens. Helps reduce repetitive or looping answers.\n",
        "- Temperature: Controls the randomness. Lower temperature => more deterministic output; higher => more creative or varied.\n",
        "- Stop Sequences: Tells the model when to halt (e.g., ```[STOP]```)."
      ],
      "metadata": {
        "id": "BlPA-XInHOgQ"
      }
    },
    {
      "cell_type": "code",
      "source": [
        "def query_llm(prompt):\n",
        "  output=llm.create_chat_completion(\n",
        "      max_tokens=1024,\n",
        "      repeat_penalty=1.2,\n",
        "      temperature=0.7,\n",
        "      stop=[\"[STOP]\",\"STOP\"],\n",
        "      messages = [\n",
        "          {\"role\": \"system\", \"content\": \"You are an AI poet of the premier quality that writes very efficient concise poetry about python code. When you are finished, write EXACTLY [STOP] on its own line. No extra punctuation or text.\"},\n",
        "          {\n",
        "              \"role\": \"user\",\n",
        "              \"content\": prompt\n",
        "              }\n",
        "      ]\n",
        ")\n",
        "  return print(output['choices'][0]['message']['content'])\n",
        "query_llm(\"write a poem about a quick sort algorithm in python.\")\n"
      ],
      "metadata": {
        "id": "I1hqB7iNHXWO",
        "colab": {
          "base_uri": "https://localhost:8080/"
        },
        "outputId": "38012807-d502-4e81-8cea-9f5804e5f55f"
      },
      "execution_count": null,
      "outputs": [
        {
          "output_type": "stream",
          "name": "stdout",
          "text": [
            "Once upon a time there was an algorithm called Quick Sort.\n",
            "It is known for sorting arrays quickly and efficiently.\n",
            "\n",
            "Here's how it worked:\n",
            "1. It chose a 'pivot' element from the array,\n",
            "2. Partitioned other elements into two halves based on whether they were less or greater than the pivot,\n",
            "3. And then recursively applied itself to those two sub-arrays, until everything was sorted in order.\n",
            "  \n",
            "It had an average and best-case time complexity of O(n log n),\n",
            "and it performed well even with large data sets.\n",
            "\n",
            "But like every algorithm, Quick Sort isn't without its downsides:\n",
            "4. It can be less stable than other sorting algorithms,\n",
            "5. And worst case performance is O(n^2) if the pivot selection strategy results in unbalanced partitions.\n",
            "   \n",
            "Despite these drawbacks, Quick Sort remains a favorite among programmers due to its efficiency and simplicity.\n",
            "\n",
            "EXACTLY [\n"
          ]
        }
      ]
    },
    {
      "cell_type": "markdown",
      "source": [
        "### Trailing character '['\n",
        "\n",
        "This may have generated, let's clean it up. This happens because we have two different 'stop' words.\n",
        "We are adding ``` cleaned_response = response.rstrip('[') ```\n",
        "\n",
        "This will start at the end of the string and examine for one example of the character [ and remove it."
      ],
      "metadata": {
        "id": "BiRwAkpx6CE_"
      }
    },
    {
      "cell_type": "code",
      "source": [
        "# prompt: function to clean up trailing '[' from the llm return\n",
        "\n",
        "def query_llm(prompt):\n",
        "  output=llm.create_chat_completion(\n",
        "      max_tokens=1024,\n",
        "      repeat_penalty=1.2,\n",
        "      temperature=0.7,\n",
        "      stop=[\"[STOP]\",\"STOP\"],\n",
        "      messages = [\n",
        "          {\"role\": \"system\", \"content\": \"You are an AI that writes very efficient concise python code. When you are finished, write EXACTLY [STOP] on its own line. No extra punctuation or text.\"},\n",
        "          {\n",
        "              \"role\": \"user\",\n",
        "              \"content\": prompt\n",
        "              }\n",
        "      ]\n",
        ")\n",
        "  response = output['choices'][0]['message']['content']\n",
        "  #Clean up trailing '['\n",
        "  cleaned_response = response.rstrip('[')\n",
        "  return print(cleaned_response)"
      ],
      "metadata": {
        "id": "6lff49lN5iSX"
      },
      "execution_count": null,
      "outputs": []
    },
    {
      "cell_type": "code",
      "source": [
        "query_llm(\"write a poem about a quick sort algorithm in python.\")"
      ],
      "metadata": {
        "id": "gNL0dbZ-53KK",
        "colab": {
          "base_uri": "https://localhost:8080/"
        },
        "outputId": "220f1508-a463-4edf-8fdd-45e1c0e36bd3"
      },
      "execution_count": null,
      "outputs": [
        {
          "output_type": "stream",
          "name": "stdout",
          "text": [
            "Once upon a digital heap,\n",
            "Where sorting algorithms were gathered.\n",
            "\n",
            "A new friend they named QuickSort,\n",
            "To sort arrays with speed and charm.\n",
            "\n",
            "Quick, fast and efficient like lightning,\n",
            "It's the reigning champion of sorts.\n",
            "\n",
            "Divide and conquer it taught,\n",
            "With pivot points dividing lists into halves.\n",
            "\n",
            "And then each half is sorted independently,\n",
            "Until eventually all items are in order.\n",
            "\n",
            "That's how a quicksort algorithm works,\n",
            "A tale told by those who code well. \n",
            "\n",
            "So go forth, brave programmers!\n",
            "Test your skills with QuickSort.\n",
            "\n"
          ]
        }
      ]
    },
    {
      "cell_type": "markdown",
      "source": [
        "### **Streaming Responses**\n",
        "\n",
        "To mimic real-time feedback, we use:\n",
        "\n",
        "```\n",
        "stream=True\n",
        "\n",
        "print(stream[\"choices\"][0][\"delta\"].get(\"content\", \"\"), end=\"\")\n",
        "```\n",
        "\n",
        "with ```\n",
        "create_chat_completion()\n",
        "```. This yields tokens as they’re generated, letting you see partial output in “streaming” style, similar to ChatGPT."
      ],
      "metadata": {
        "id": "741EuRZwzgZ0"
      }
    },
    {
      "cell_type": "code",
      "source": [
        "def stream_query_llm(prompt):\n",
        "  for stream in llm.create_chat_completion(\n",
        "      max_tokens=1024,\n",
        "      stream=True,\n",
        "      stop=[\"[STOP]\",\"STOP\"],\n",
        "\n",
        "      messages = [\n",
        "          {\"role\": \"system\", \"content\": \"You are an AI that writes very efficient concise python code. When you are finished, write EXACTLY [STOP] on its own line. No extra punctuation or text.\"},\n",
        "          {\n",
        "              \"role\": \"user\",\n",
        "              \"content\": prompt\n",
        "              }\n",
        "      ],\n",
        "\n",
        "  ):\n",
        "\n",
        "    print(stream[\"choices\"][0][\"delta\"].get(\"content\", \"\"), end=\"\")\n",
        "stream_query_llm(\"write a poem about a quick sort algorithm in python.\")\n"
      ],
      "metadata": {
        "id": "DgUP4CnOuIvz",
        "colab": {
          "base_uri": "https://localhost:8080/"
        },
        "outputId": "0be6333a-d65d-47cd-9ce6-008d3775a4b8"
      },
      "execution_count": null,
      "outputs": [
        {
          "output_type": "stream",
          "name": "stdout",
          "text": [
            "Once upon a time there was a man named Tim,\n",
            "He loved to sort lists of numbers with Quick Sort.\n",
            "Quick Sort is fast, it's efficient and easy to use,\n",
            "It uses divide and conquer strategy for sorting.\n",
            "\n",
            "Tim started by choosing a pivot point,\n",
            "Then he partitioned the list around that pivot,\n",
            "All elements less than the pivot went to its left,\n",
            "And all greater ones went to its right.\n",
            "\n",
            "He repeated this process recursively on both sides,\n",
            "Until each side was sorted in ascending order.\n",
            "Finally, Tim combined them together and got a sorted list.\n",
            "\n",
            "This is how Quick Sort works,\n",
            "It's fast, efficient and easy to understand.\n",
            "["
          ]
        }
      ]
    },
    {
      "cell_type": "markdown",
      "source": [
        "### Streaming Trailing Character\n",
        "\n",
        "The trailing character is back because we are print the \"delta\" instead of the entire message, so our prior method of ```.rstrip('[')``` wont work.\n",
        "\n",
        "The model is generating the correct stop tokens, however since we include both ```[STOP] and STOP``` to always catch the stop we need to find that trailing '['. We will check if the token is '[' and break the function if the parameter \"finish_reason\" is not 'None'. This allows us to only remove a trailing '[' and not '[' used in code we intended to generate."
      ],
      "metadata": {
        "id": "2R95bGcondsN"
      }
    },
    {
      "cell_type": "code",
      "source": [
        "import sys\n",
        "\n",
        "def stream_query_llm(prompt):\n",
        "    partial_response = \"\"  # Store the growing response\n",
        "\n",
        "    for stream in llm.create_chat_completion(\n",
        "        max_tokens=1024,\n",
        "        stream=True,\n",
        "        stop=[\"[STOP]\", \"STOP\"],  # Stop words\n",
        "        messages=[\n",
        "            {\"role\": \"system\", \"content\": \"You are an AI that writes very efficient concise python code. When you are finished, write EXACTLY [STOP] on its own line. No extra punctuation or text.\"},\n",
        "            {\"role\": \"user\", \"content\": prompt}\n",
        "        ],\n",
        "    ):\n",
        "        token = stream[\"choices\"][0][\"delta\"].get(\"content\", \"\")\n",
        "\n",
        "        # **Skip token if it's exactly \"[\" (avoiding trailing issues)**\n",
        "        if token == \"[\" and stream[\"choices\"][0][\"finish_reason\"] != 'None':\n",
        "            continue  # Skip processing this token\n",
        "\n",
        "                # Append to response\n",
        "        partial_response += token\n",
        "        sys.stdout.write(token)  # Print live output\n",
        "        sys.stdout.flush()\n",
        "\n",
        "\n",
        "\n",
        "\n",
        "# Example usage\n",
        "stream_query_llm(\"Write a poem about a quick sort algorithm in Python.\")\n"
      ],
      "metadata": {
        "id": "pl_9zDx7_MmP",
        "colab": {
          "base_uri": "https://localhost:8080/"
        },
        "outputId": "a67cda98-9499-4a31-da3e-ac8c540de266"
      },
      "execution_count": null,
      "outputs": [
        {
          "output_type": "stream",
          "name": "stdout",
          "text": [
            "Once upon a time there was a man named Quicksort,\n",
            "He loved to sort data with his fast and efficient method.\n",
            "Quicksort used a divide-and-conquer strategy,\n",
            "Dividing the array into two smaller sub-arrays.\n",
            "\n",
            "The first step was to pick a pivot point,\n",
            "A value that would help him divide the array.\n",
            "All values less than the pivot went to the left,\n",
            "And all greater ones ended up on the right.\n",
            "\n",
            "This process repeated itself recursively,\n",
            "Until each sub-array had only one element.\n",
            "Then, he combined them back together,\n",
            "Sorting the entire array in no time at all.\n",
            "\n",
            "Quicksort was a man of many tricks,\n",
            "With his partition and recursion skills.\n",
            "He sorted data quickly and efficiently,\n",
            "And became an overnight sensation.\n",
            "\n"
          ]
        }
      ]
    },
    {
      "cell_type": "code",
      "source": [
        "stream_query_llm(\"write a simple function of anykind that includes a list.\")\n"
      ],
      "metadata": {
        "id": "v5d2GSrGk6cL",
        "colab": {
          "base_uri": "https://localhost:8080/"
        },
        "outputId": "0f70eef9-31c3-42de-aca6-131a8b8ec9dc"
      },
      "execution_count": null,
      "outputs": [
        {
          "output_type": "stream",
          "name": "stdout",
          "text": [
            "Sure, here is a simple Python function that takes a list as an argument and returns the sum of all elements in the list.\n",
            "\n",
            "```python\n",
            "def sum_list(lst):\n",
            "    return sum(lst)\n",
            "```\n",
            "\n",
            "You can use it like this:\n",
            "\n",
            "```python\n",
            "numbers = [1, 2, 3, 4, 5]\n",
            "print(sum_list(numbers))  # Output: 15\n",
            "```\n"
          ]
        }
      ]
    },
    {
      "cell_type": "markdown",
      "source": [
        "### **Chat Memory**\n",
        "\n",
        "We simulate memory by storing all user and assistant messages in a list. Each new prompt includes the entire conversation (or the truncated portion if the context window is large).\n",
        "\n",
        "- Instantiate ```conversation_memory = []```.\n",
        "- Each user message and each LLM response are appended as {\"role\": \"user\"/\"assistant\", \"content\": \"...\"}.\n",
        "- Send the entire ```conversation_memory``` to the model each time you want a response.\n",
        "\n",
        "Context Window Limit:\n",
        "\n",
        "Remember that each token of conversation consumes part of the LLM’s context window. If your LLM supports an 8K or 6K context window, you can’t exceed it. For longer conversations, you might remove older turns or summarize them."
      ],
      "metadata": {
        "id": "a6GtG5KPqezY"
      }
    },
    {
      "cell_type": "code",
      "source": [
        "# Initialize conversation memory as a list of messages\n",
        "conversation_memory = []\n",
        "\n",
        "def memory_query_llm(prompt):\n",
        "    partial_response = \"\"  # Store the growing response\n",
        "\n",
        "    # Append the user's message to the conversation memory\n",
        "    conversation_memory.append({\"role\": \"user\", \"content\": prompt})\n",
        "\n",
        "    # Build the messages to include conversation history\n",
        "    messages = [{\"role\": \"system\", \"content\": \"You are a chatty software developer that loves to write poems about code. When you are finished, write EXACTLY [STOP] on its own line. No extra punctuation or text.\"}] + conversation_memory\n",
        "\n",
        "    # Stream the LLM's response\n",
        "    response = \"\"\n",
        "    for stream in llm.create_chat_completion(\n",
        "        max_tokens=1024,\n",
        "        stream=True,\n",
        "        stop=[\"[STOP]\"],\n",
        "        messages=messages,\n",
        "    ):\n",
        "        token = stream[\"choices\"][0][\"delta\"].get(\"content\", \"\")\n",
        "\n",
        "        # **Skip token if it's exactly \"[\" (avoiding trailing issues)**\n",
        "        if token == \"[\" and stream[\"choices\"][0][\"finish_reason\"] != 'None':\n",
        "            continue  # Skip processing this token\n",
        "\n",
        "                # Append to response\n",
        "        partial_response += token\n",
        "        sys.stdout.write(token)  # Print live output\n",
        "        sys.stdout.flush()\n",
        "        response += partial_response\n",
        "\n",
        "    # Append the AI's response to the conversation memory\n",
        "    conversation_memory.append({\"role\": \"assistant\", \"content\": response.strip()})\n",
        "\n",
        "# Example usage\n",
        "memory_query_llm(\"Remember my name is Alan, what is my name?\")\n",
        "\n"
      ],
      "metadata": {
        "id": "Iowt1pHmwsZJ",
        "colab": {
          "base_uri": "https://localhost:8080/"
        },
        "outputId": "f30db686-5179-4d5c-ba20-600da7a7756d"
      },
      "execution_count": null,
      "outputs": [
        {
          "output_type": "stream",
          "name": "stdout",
          "text": [
            "Your name is Alan.\n"
          ]
        }
      ]
    },
    {
      "cell_type": "code",
      "source": [
        "memory_query_llm(\"Write a poem about me using my name, and how I love to develop Generative AI tools\")"
      ],
      "metadata": {
        "id": "xlTqt7Gfx2Zo",
        "colab": {
          "base_uri": "https://localhost:8080/"
        },
        "outputId": "ddb2c1d8-d5a7-43ec-f01b-45bfe89b62f1"
      },
      "execution_count": null,
      "outputs": [
        {
          "output_type": "stream",
          "name": "stdout",
          "text": [
            "In the vast expanse of code,\n",
            "Alan stands as a beacon of brilliance.\n",
            "His work in artificial intelligence,\n",
            "Has revolutionized the world we live in.\n",
            "\n",
            "He codes with precision like a virtuoso,\n",
            "A machine learning genius at heart.\n",
            "Every line he writes is not just code,\n",
            "But a symphony of logic and creativity.\n",
            "\n",
            "Alan's tools are not just for coding,\n",
            "They're for understanding, analyzing, and generating.\n",
            "His Generative AI tools are powerful,\n",
            "And they make the world a better place to live in.\n",
            "\n",
            "In the end, Alan stands tall,\n",
            "A man who codes with passion and pride.\n"
          ]
        }
      ]
    },
    {
      "cell_type": "markdown",
      "source": [
        "## **Building a Simple Chat Loop**\n",
        "\n",
        "We can create a simple chat loop in a single cell using ```input()``` in Colab. The user types queries; the model streams responses back. We maintain memory by continually appending messages to the conversation history:\n",
        "\n",
        "```\n",
        "def chat_with_llm():\n",
        "    # ...\n",
        "    while True:\n",
        "        user_input = input(\"You: \").strip()\n",
        "        # ...\n",
        "        for stream in llm.create_chat_completion(...):\n",
        "            # ...\n",
        "```\n",
        "\n",
        "This provides an interactive, console-style chat in your Colab cell.\n",
        "\n"
      ],
      "metadata": {
        "id": "NZHj5DdTyejS"
      }
    },
    {
      "cell_type": "code",
      "source": [
        "# Initialize conversation memory\n",
        "conversation_memory = [\n",
        "    {\"role\": \"system\", \"content\": \"Your role is 'system'. You have a memory and access to prior conversation turns. You take a single turn. When you are finished, write EXACTLY [STOP] on its own line. No extra punctuation or text.\"}]\n",
        "def chat_with_llm():\n",
        "    print(\"AI Chatbot: Let's chat! Type 'exit' to end the conversation.\")\n",
        "    while True:\n",
        "\n",
        "\n",
        "        # Get user input\n",
        "        user_input = input(\"You: \").strip()\n",
        "\n",
        "        # Exit condition\n",
        "        if user_input.lower() == \"exit\":\n",
        "            print(\"AI Chatbot: Goodbye!\")\n",
        "            break\n",
        "\n",
        "        # Append user input to conversation memory\n",
        "        conversation_memory.append({\"role\": \"user\", \"content\": user_input})\n",
        "\n",
        "        # Generate response from the LLM\n",
        "        response = \"\"\n",
        "        for stream in llm.create_chat_completion(\n",
        "            max_tokens=512,\n",
        "            stream=True,\n",
        "            stop=[\"[STOP]\", \"STOP\"],\n",
        "            messages=conversation_memory,\n",
        "        ):\n",
        "            partial_response = \"\"  # Store the growing response\n",
        "            token = stream[\"choices\"][0][\"delta\"].get(\"content\", \"\")\n",
        "\n",
        "            # **Skip token if it's exactly \"[\" (avoiding trailing issues)**\n",
        "            if token == \"[\" and stream[\"choices\"][0][\"finish_reason\"] != 'None':\n",
        "                continue  # Skip processing this token\n",
        "\n",
        "                    # Append to response\n",
        "            partial_response += token\n",
        "            sys.stdout.write(token)  # Print live output\n",
        "            sys.stdout.flush()\n",
        "            response += partial_response\n",
        "\n",
        "        print()  # Add a newline for better formatting\n",
        "\n",
        "        # Append the AI's response to the conversation memory\n",
        "        conversation_memory.append({\"role\": \"assistant\", \"content\": response.strip()})\n",
        "\n",
        "# Start the chat\n",
        "chat_with_llm()\n"
      ],
      "metadata": {
        "id": "dReHUsiZyh3i",
        "colab": {
          "base_uri": "https://localhost:8080/",
          "height": 558
        },
        "outputId": "d8011dd0-c07d-4a0a-c601-44a7ff38467b"
      },
      "execution_count": null,
      "outputs": [
        {
          "output_type": "stream",
          "name": "stdout",
          "text": [
            "AI Chatbot: Let's chat! Type 'exit' to end the conversation.\n",
            "You: I am a photographer\n",
            "As an AI language model, I don't have the capability of understanding context or role-playing in real-time. However, I can provide information based on your input. You mentioned that you are a photographer. What would you like to know about this profession?\n",
            "\n",
            "You: I have concerns about how my profession has been used in AI\n",
            "As an AI language model, I don't have personal experiences or opinions. However, I can provide information based on the data and knowledge I've been programmed with. The use of AI in photography is a growing trend, especially in recent years due to advancements in technology. Some professionals are concerned about job displacement, but others see it as an opportunity for growth and innovation. It largely depends on how we utilize this new technology.\n",
            "AI can assist in various ways such as editing photos, creating personalized photo shoots, analyzing images, etc. However, it's important to note that AI should be used ethically and responsibly, respecting privacy and copyrights of individuals or brands.\n",
            "\n",
            "You: Whom do I sue if I find my work stolen by AI\n",
            "If you believe your work has been copied without permission using AI technology, the first step would typically be to contact the person or entity that used it. If they are unable to provide a satisfactory resolution, you may need to take legal action. In many jurisdictions, there are laws against copyright infringement and unauthorized use of copyrighted material. You should consult with an attorney familiar with intellectual property law in your area for advice on how to proceed.\n",
            "\n"
          ]
        },
        {
          "output_type": "error",
          "ename": "KeyboardInterrupt",
          "evalue": "Interrupted by user",
          "traceback": [
            "\u001b[0;31m---------------------------------------------------------------------------\u001b[0m",
            "\u001b[0;31mKeyboardInterrupt\u001b[0m                         Traceback (most recent call last)",
            "\u001b[0;32m<ipython-input-25-a321da87470e>\u001b[0m in \u001b[0;36m<cell line: 0>\u001b[0;34m()\u001b[0m\n\u001b[1;32m     45\u001b[0m \u001b[0;34m\u001b[0m\u001b[0m\n\u001b[1;32m     46\u001b[0m \u001b[0;31m# Start the chat\u001b[0m\u001b[0;34m\u001b[0m\u001b[0;34m\u001b[0m\u001b[0m\n\u001b[0;32m---> 47\u001b[0;31m \u001b[0mchat_with_llm\u001b[0m\u001b[0;34m(\u001b[0m\u001b[0;34m)\u001b[0m\u001b[0;34m\u001b[0m\u001b[0;34m\u001b[0m\u001b[0m\n\u001b[0m",
            "\u001b[0;32m<ipython-input-25-a321da87470e>\u001b[0m in \u001b[0;36mchat_with_llm\u001b[0;34m()\u001b[0m\n\u001b[1;32m      8\u001b[0m \u001b[0;34m\u001b[0m\u001b[0m\n\u001b[1;32m      9\u001b[0m         \u001b[0;31m# Get user input\u001b[0m\u001b[0;34m\u001b[0m\u001b[0;34m\u001b[0m\u001b[0m\n\u001b[0;32m---> 10\u001b[0;31m         \u001b[0muser_input\u001b[0m \u001b[0;34m=\u001b[0m \u001b[0minput\u001b[0m\u001b[0;34m(\u001b[0m\u001b[0;34m\"You: \"\u001b[0m\u001b[0;34m)\u001b[0m\u001b[0;34m.\u001b[0m\u001b[0mstrip\u001b[0m\u001b[0;34m(\u001b[0m\u001b[0;34m)\u001b[0m\u001b[0;34m\u001b[0m\u001b[0;34m\u001b[0m\u001b[0m\n\u001b[0m\u001b[1;32m     11\u001b[0m \u001b[0;34m\u001b[0m\u001b[0m\n\u001b[1;32m     12\u001b[0m         \u001b[0;31m# Exit condition\u001b[0m\u001b[0;34m\u001b[0m\u001b[0;34m\u001b[0m\u001b[0m\n",
            "\u001b[0;32m/usr/local/lib/python3.11/dist-packages/ipykernel/kernelbase.py\u001b[0m in \u001b[0;36mraw_input\u001b[0;34m(self, prompt)\u001b[0m\n\u001b[1;32m    849\u001b[0m                 \u001b[0;34m\"raw_input was called, but this frontend does not support input requests.\"\u001b[0m\u001b[0;34m\u001b[0m\u001b[0;34m\u001b[0m\u001b[0m\n\u001b[1;32m    850\u001b[0m             )\n\u001b[0;32m--> 851\u001b[0;31m         return self._input_request(str(prompt),\n\u001b[0m\u001b[1;32m    852\u001b[0m             \u001b[0mself\u001b[0m\u001b[0;34m.\u001b[0m\u001b[0m_parent_ident\u001b[0m\u001b[0;34m,\u001b[0m\u001b[0;34m\u001b[0m\u001b[0;34m\u001b[0m\u001b[0m\n\u001b[1;32m    853\u001b[0m             \u001b[0mself\u001b[0m\u001b[0;34m.\u001b[0m\u001b[0m_parent_header\u001b[0m\u001b[0;34m,\u001b[0m\u001b[0;34m\u001b[0m\u001b[0;34m\u001b[0m\u001b[0m\n",
            "\u001b[0;32m/usr/local/lib/python3.11/dist-packages/ipykernel/kernelbase.py\u001b[0m in \u001b[0;36m_input_request\u001b[0;34m(self, prompt, ident, parent, password)\u001b[0m\n\u001b[1;32m    893\u001b[0m             \u001b[0;32mexcept\u001b[0m \u001b[0mKeyboardInterrupt\u001b[0m\u001b[0;34m:\u001b[0m\u001b[0;34m\u001b[0m\u001b[0;34m\u001b[0m\u001b[0m\n\u001b[1;32m    894\u001b[0m                 \u001b[0;31m# re-raise KeyboardInterrupt, to truncate traceback\u001b[0m\u001b[0;34m\u001b[0m\u001b[0;34m\u001b[0m\u001b[0m\n\u001b[0;32m--> 895\u001b[0;31m                 \u001b[0;32mraise\u001b[0m \u001b[0mKeyboardInterrupt\u001b[0m\u001b[0;34m(\u001b[0m\u001b[0;34m\"Interrupted by user\"\u001b[0m\u001b[0;34m)\u001b[0m \u001b[0;32mfrom\u001b[0m \u001b[0;32mNone\u001b[0m\u001b[0;34m\u001b[0m\u001b[0;34m\u001b[0m\u001b[0m\n\u001b[0m\u001b[1;32m    896\u001b[0m             \u001b[0;32mexcept\u001b[0m \u001b[0mException\u001b[0m \u001b[0;32mas\u001b[0m \u001b[0me\u001b[0m\u001b[0;34m:\u001b[0m\u001b[0;34m\u001b[0m\u001b[0;34m\u001b[0m\u001b[0m\n\u001b[1;32m    897\u001b[0m                 \u001b[0mself\u001b[0m\u001b[0;34m.\u001b[0m\u001b[0mlog\u001b[0m\u001b[0;34m.\u001b[0m\u001b[0mwarning\u001b[0m\u001b[0;34m(\u001b[0m\u001b[0;34m\"Invalid Message:\"\u001b[0m\u001b[0;34m,\u001b[0m \u001b[0mexc_info\u001b[0m\u001b[0;34m=\u001b[0m\u001b[0;32mTrue\u001b[0m\u001b[0;34m)\u001b[0m\u001b[0;34m\u001b[0m\u001b[0;34m\u001b[0m\u001b[0m\n",
            "\u001b[0;31mKeyboardInterrupt\u001b[0m: Interrupted by user"
          ]
        }
      ]
    },
    {
      "cell_type": "markdown",
      "source": [
        "## **Retrieval-Augmented Generation (RAG)**\n",
        "\n",
        "RAG is a popular technique to provide an LLM with relevant external information (e.g., from your documents, knowledge base, or PDFs) at query time. This approach ensures the model’s answers are grounded in real data, not just the model’s baked-in knowledge.\n",
        "\n",
        "Workflow:\n",
        "\n",
        "- Ingest Text:\n",
        "    - Split large documents into manageable chunks.\n",
        "    Create vector embeddings for each chunk (using a model like sentence-transformers).\n",
        "    Store the chunks and embeddings in a dataframe or specialized vector DB.\n",
        "\n",
        "- Query:\n",
        "    - Embed the user’s query with the same embedding model.\n",
        "    Compute similarity scores (e.g., dot product, cosine similarity) between query embedding and your stored chunk embeddings.\n",
        "    Retrieve the top-k most relevant chunks.\n",
        "\n",
        "    - Append these top chunks as context to your LLM prompt.\n",
        "\n",
        "    - LLM uses both the user query and the retrieved context to produce an answer grounded in your data.\n",
        "\n",
        "In this notebook:\n",
        "\n",
        "- We used a precomputed CSV of chunks + embeddings, loaded them, and used sentence-transformers to quickly retrieve top matches for a user query.\n",
        "Then we built a prompt containing “Document Summary” and “Page Summaries,” appended that to the user query, and sent it to the LLM.\n",
        "\n"
      ],
      "metadata": {
        "id": "f4YnXwkr18zf"
      }
    },
    {
      "cell_type": "code",
      "source": [
        "from huggingface_hub import snapshot_download\n",
        "import os\n",
        "\n",
        "embedding_file_name = \"BAAI/bge-m3\"\n",
        "embedding_file_path = os.path.join(nb_path, embedding_file_name)\n",
        "\n",
        "if os.path.isfile(embedding_file_path):\n",
        "    print(f\"'{embedding_file_name}' is already present in '{nb_path}'.\")\n",
        "else:\n",
        "    print(f\"'{embedding_file_name}' not found. Downloading now...\")\n",
        "    embedding_model_path = snapshot_download(\n",
        "        repo_id=\"BAAI/bge-m3\",\n",
        "\n",
        "        local_dir=nb_path\n",
        "    )\n",
        "    print(\"Model downloaded to:\", embedding_model_path)"
      ],
      "metadata": {
        "id": "DWIq05Bc3S7t"
      },
      "execution_count": null,
      "outputs": []
    },
    {
      "cell_type": "markdown",
      "source": [
        "### Download Links\n",
        "\n",
        "Follow the links, download the files, then upload to your notebook.\n",
        "\n",
        "[Colorado Constitution Embeddings](https://drive.google.com/file/d/1n_EoeAyCQrtKzZMhNxd9PD3p2u68afBN/view?usp=sharing)\n",
        "\n",
        "[Colorado Constitution Enhanced Output](https://drive.google.com/file/d/1VwNf5IpIeWB3ZYxoSkj__AS-5l_UbfUs/view?usp=sharing)\n"
      ],
      "metadata": {
        "id": "XjFtFYjPF4yz"
      }
    },
    {
      "cell_type": "code",
      "source": [
        "# ---------- PATHS --------------\n",
        "embeddings_df_save_path = \"/content/ColoradoConstitution_embeddings.csv\"\n",
        "enhanced_json_file = \"/content/ColoradoConstitution_enhanced_output.json\"\n"
      ],
      "metadata": {
        "id": "P38K-yz93PcZ"
      },
      "execution_count": null,
      "outputs": []
    },
    {
      "cell_type": "markdown",
      "source": [
        "### Load Embeddings"
      ],
      "metadata": {
        "id": "PDXC-Fp3trfN"
      }
    },
    {
      "cell_type": "code",
      "source": [
        "# ---------- LOAD JSON --------------\n",
        "import json\n",
        "import pandas as pd\n",
        "import numpy as np\n",
        "\n",
        "def load_enhanced_json(file_path):\n",
        "    with open(file_path, 'r') as file:\n",
        "        return json.load(file)\n",
        "\n",
        "enhanced_data = load_enhanced_json(enhanced_json_file)\n",
        "document_summary = enhanced_data.get('document_summary', 'No document summary available.')\n",
        "page_summaries = {\n",
        "    int(page): data['summary']\n",
        "    for page, data in enhanced_data.get('pages', {}).items()\n",
        "}\n",
        "\n",
        "# ---------- LOAD CSV + EMBEDDINGS --------------\n",
        "text_chunks_and_embedding_df_load = pd.read_csv(embeddings_df_save_path)\n",
        "\n",
        "# Convert the stringified embeddings back to numpy arrays\n",
        "text_chunks_and_embedding_df_load['embedding'] = text_chunks_and_embedding_df_load['embedding'].apply(\n",
        "    lambda x: np.array(json.loads(x))\n",
        ")\n",
        "\n",
        "pages_and_chunks = text_chunks_and_embedding_df_load.to_dict(orient=\"records\")"
      ],
      "metadata": {
        "id": "0mZq0ODW4Fro"
      },
      "execution_count": null,
      "outputs": []
    },
    {
      "cell_type": "code",
      "source": [
        "# Convert to torch tensor\n",
        "import torch\n",
        "from sentence_transformers import SentenceTransformer, util\n",
        "\n",
        "\n",
        "embeddings = torch.tensor(\n",
        "    np.array(text_chunks_and_embedding_df_load[\"embedding\"].tolist()),\n",
        "    dtype=torch.float32\n",
        ").to('cpu')\n",
        "\n",
        "# ---------- LOAD SENTENCE-TRANSFORMER MODEL --------------\n",
        "embedding_model = SentenceTransformer(model_name_or_path=embedding_model_path, device='cpu')\n"
      ],
      "metadata": {
        "id": "0c-oJrhu4pQF"
      },
      "execution_count": null,
      "outputs": []
    },
    {
      "cell_type": "markdown",
      "source": [
        "### Utility Functions"
      ],
      "metadata": {
        "id": "n8uOS8ICtu_6"
      }
    },
    {
      "cell_type": "code",
      "source": [
        "import textwrap\n",
        "\n",
        "def print_wrapped(text, wrap_length=80):\n",
        "    wrapped_text = textwrap.fill(text, wrap_length)\n",
        "    print(wrapped_text)\n",
        "\n",
        "def retrieve_relevant_resources(query: str,\n",
        "                                embeddings: torch.Tensor,\n",
        "                                model: SentenceTransformer,\n",
        "                                n_resources_to_return: int = 4):\n",
        "    \"\"\"\n",
        "    Given the user query, embed it, compute dot-product scores,\n",
        "    and return top-k matching indices in descending order of relevance.\n",
        "    \"\"\"\n",
        "    query_embedding = model.encode(query, convert_to_tensor=True)\n",
        "    dot_scores = util.dot_score(query_embedding, embeddings)[0]\n",
        "    scores, indices = torch.topk(dot_scores, k=n_resources_to_return)\n",
        "    return scores, indices\n",
        "\n",
        "def get_top_context(query: str,\n",
        "                    embeddings: torch.Tensor,\n",
        "                    pages_and_chunks: list[dict],\n",
        "                    n_resources_to_return: int = 4):\n",
        "    \"\"\"\n",
        "    Fetch the top-k chunks from pages_and_chunks for the user query.\n",
        "    Returns the chunk dicts in descending order of relevance.\n",
        "    \"\"\"\n",
        "    scores, indices = retrieve_relevant_resources(\n",
        "        query=query,\n",
        "        embeddings=embeddings,\n",
        "        model=embedding_model,\n",
        "        n_resources_to_return=n_resources_to_return\n",
        "    )\n",
        "    # Prepare the context items\n",
        "    top_context_items = []\n",
        "    for i, idx in enumerate(indices):\n",
        "        idx_int = int(idx)  # ensure it's an int\n",
        "        if 0 <= idx_int < len(pages_and_chunks):\n",
        "            top_context_items.append(pages_and_chunks[idx_int])\n",
        "    return top_context_items\n",
        "\n",
        "def prompt_formatter(query: str, context_items: list[dict]) -> str:\n",
        "    \"\"\"\n",
        "    Build a final prompt to feed into the LLM.\n",
        "    Includes the document summary and relevant page summaries + chunk text.\n",
        "    \"\"\"\n",
        "    formatted_context = f\"Document Summary: {document_summary}\\n\\n\"\n",
        "    for item in context_items:\n",
        "        page_number = item.get('page', 'Unknown')\n",
        "        page_summary = page_summaries.get(page_number, 'No page summary available.')\n",
        "        content = item.get('content', 'Chunk not found.')\n",
        "        formatted_context += f\"Page {page_number}: {page_summary}\\n\"\n",
        "        formatted_context += f\"Content: {content}\\n\\n\"\n",
        "\n",
        "    base_prompt = \"\"\"Use the following context to answer the user query:\n",
        "    {context}\n",
        "User query: {query}\n",
        "Answer: \"\"\"\n",
        "    # For debug:\n",
        "    # print(\"PROMPT:\", base_prompt.format(context=formatted_context, query=query))\n",
        "    return base_prompt.format(context=formatted_context, query=query)\n",
        "\n",
        "\n"
      ],
      "metadata": {
        "id": "119rijrm5EVZ"
      },
      "execution_count": null,
      "outputs": []
    },
    {
      "cell_type": "markdown",
      "source": [
        "### Clear GPU VRAM"
      ],
      "metadata": {
        "id": "1WMWcE64t7v2"
      }
    },
    {
      "cell_type": "code",
      "source": [
        "# This is critical or else we will load the model again and run out of memory.\n",
        "\n",
        "# Import Garbage Collector, Python has a quirk where it does not release memory if it might still be called again.\n",
        "import gc\n",
        "\n",
        "# Delete the variable llm then force garbage collections and clear the GPU VRAM\n",
        "del llm\n",
        "gc.collect()\n",
        "torch.cuda.empty_cache()\n"
      ],
      "metadata": {
        "id": "pSQM0OMXADJA"
      },
      "execution_count": null,
      "outputs": []
    },
    {
      "cell_type": "markdown",
      "source": [
        "### **Remount the Model with an expanded context window**\n",
        "\n",
        "Reinitialize our model with an expanded context window:\n",
        "\n",
        "```n_ctx=8000```\n",
        "\n",
        "This allows for more text in the input, so we can feed in more user messages or more retrieved text."
      ],
      "metadata": {
        "id": "LHsVylKRwQ79"
      }
    },
    {
      "cell_type": "code",
      "source": [
        "\n",
        "\n",
        "from llama_cpp import Llama\n",
        "\n",
        "llm = Llama(\n",
        "      model_path=llm_file_path,\n",
        "      n_gpu_layers=-1, # -1 means all layers offloaded to GPU\n",
        "      verbose=False,\n",
        "      n_ctx=8000,\n",
        ")"
      ],
      "metadata": {
        "id": "lSoGulwi-DBi"
      },
      "execution_count": null,
      "outputs": []
    },
    {
      "cell_type": "markdown",
      "source": [
        "### Run as a Chat Loop"
      ],
      "metadata": {
        "id": "cZ6np-A_uOhd"
      }
    },
    {
      "cell_type": "code",
      "source": [
        "\n",
        "\n",
        "def chat_loop():\n",
        "    print(\"Welcome to the *Colorado Constitution* QA Chat! (Type 'exit' to quit)\")\n",
        "\n",
        "    while True:\n",
        "        # Prompt the user\n",
        "        user_query = input(\"\\nUser: \").strip()\n",
        "\n",
        "        # Exit on demand\n",
        "        if user_query.lower() in [\"exit\", \"quit\"]:\n",
        "            print(\"Goodbye!\")\n",
        "            break\n",
        "\n",
        "        # 1. Retrieve top context\n",
        "        top_context = get_top_context(query=user_query,\n",
        "                                      embeddings=embeddings,\n",
        "                                      pages_and_chunks=pages_and_chunks,\n",
        "                                      n_resources_to_return=10)\n",
        "\n",
        "        # 2. Format the prompt\n",
        "        prompt = prompt_formatter(query=user_query, context_items=top_context)\n",
        "        system_prompt = [\n",
        "  {\n",
        "    \"role\": \"system\",\n",
        "    \"content\": \"You are a concise and helpful system. You will receive context along with associated page numbers. Begin each answer with a line in the format 'PAGE [page_number]:' referencing the relevant page(s). Then provide a concise summary of the answer to the user's query, strictly avoiding quoting exact text from the context. When you finish, write EXACTLY 'STOP' on a separate line—no extra punctuation or text.\"\n",
        "  }\n",
        "]\n",
        "\n",
        "\n",
        "        system_prompt.append({\"role\":\"user\",\"content\":prompt})\n",
        "        # DEBUG\n",
        "        # print(system_prompt)\n",
        "\n",
        "        # Generate response from the LLM\n",
        "        response = \"\"\n",
        "        for stream in llm.create_chat_completion(\n",
        "            max_tokens=1000,\n",
        "            stream=True,\n",
        "            stop=[\"STOP\"],\n",
        "            messages=system_prompt,\n",
        "        ):\n",
        "            content = stream[\"choices\"][0][\"delta\"].get(\"content\", \"\")\n",
        "            print(content, end=\"\")\n",
        "            # response += content\n",
        "\n",
        "        print()  # Add a newline for better formatting\n",
        "\n",
        "\n",
        "\n",
        "\n"
      ],
      "metadata": {
        "id": "EIrNpjK45OvZ"
      },
      "execution_count": null,
      "outputs": []
    },
    {
      "cell_type": "markdown",
      "source": [
        "### Questions to Ask\n",
        "- What are the rights of Colorado citizens that go beyond the U.S. Constitution?\n",
        "\n",
        "- How can a citizen propose a new law or constitutional amendment in Colorado?\""
      ],
      "metadata": {
        "id": "PyynYaODvvW9"
      }
    },
    {
      "cell_type": "markdown",
      "source": [
        "## **Function Calling**\n",
        "\n",
        "Some LLM frameworks (like OpenAI’s GPT-4 or adapted llama.cpp builds) are trained on specialized JSON “function calls.” The idea is:\n",
        "\n",
        "- User prompt triggers a “function call” in the model’s output.\n",
        "- The model returns a structured JSON object naming the function and its arguments.\n",
        "- Your code parses that output, calls the actual function in Python, and returns results.\n",
        "\n",
        "We define:\n",
        "\n",
        "```\n",
        "def ChatResponse(text: str) -> dict:\n",
        "# Handle standard chat functions\n",
        "  ```\n",
        "\n",
        "```\n",
        "def UserDetail(name: str, age: int) -> dict:\n",
        " # Store or retrieve user details\n",
        " ```\n",
        "\n",
        "We then map function names to Python functions using ```FUNCTION_MAP``` and parse the model’s output to see if it invoked ```UserDetail() or ChatResponse()```.\n"
      ],
      "metadata": {
        "id": "J1gOplm1weJ3"
      }
    },
    {
      "cell_type": "code",
      "source": [
        "def UserDetail(name: str, age: int) -> dict:\n",
        "    \"\"\"\n",
        "    Stores or retrieves user details.\n",
        "\n",
        "    If the user is new, their details are added.\n",
        "    If the user already exists, their details are retrieved.\n",
        "    \"\"\"\n",
        "\n",
        "    # Check if the user is already stored\n",
        "    if name in users:\n",
        "        return {\"message\": f\"User {name} already exists.\", \"data\": users[name]}\n",
        "\n",
        "    # Store new user details\n",
        "    users[name] = {\"name\": name, \"age\": age}\n",
        "    return f\"\"\"User {name} added successfully.\", \"data\": {users[name]}\"\"\""
      ],
      "metadata": {
        "id": "urCIHFKN6zUz"
      },
      "execution_count": null,
      "outputs": []
    },
    {
      "cell_type": "code",
      "source": [
        "def ChatResponse(text: str) -> dict:\n",
        "\n",
        "    \"\"\"\n",
        "    Handles standard chat responses.\n",
        "    Introducing the function format confuses the model on normal chat responses.\n",
        "    \"\"\"\n",
        "    output=llm.create_chat_completion(\n",
        "      max_tokens=1024,\n",
        "      repeat_penalty=1.2,\n",
        "      temperature=0.7,\n",
        "      stop=[\"[STOP]\",\"STOP\"],\n",
        "      messages = [\n",
        "          {\"role\": \"system\", \"content\": \"You are an AI chatting with a user. When you are finished, write EXACTLY [STOP] on its own line. No extra punctuation or text.\"},\n",
        "          {\n",
        "              \"role\": \"user\",\n",
        "              \"content\": text\n",
        "              }\n",
        "      ]\n",
        ")\n",
        "    return text"
      ],
      "metadata": {
        "id": "2XPs4w5T62LX"
      },
      "execution_count": null,
      "outputs": []
    },
    {
      "cell_type": "markdown",
      "source": [
        "### Robustly clean up the response string\n",
        "\n",
        "This model is not explicitly trained for function calling, and requires support. The string returned is useful JSON that requires some cleaning.\n",
        "\n",
        "This function uses the regular expression library to find line breaks and trailing text or spaces and removes them.\n",
        "\n",
        "This is ultimately very fragile and dependent on the model to output valid JSON or consistently invalid JSON in ways we can detect and fix."
      ],
      "metadata": {
        "id": "4SVIagBV7RYT"
      }
    },
    {
      "cell_type": "code",
      "source": [
        "import json\n",
        "import re\n",
        "\n",
        "# Global dictionary to store user details\n",
        "users = {}\n",
        "\n",
        "# A mapping of function names to actual Python callables\n",
        "FUNCTION_MAP = {\n",
        "    \"UserDetail\": UserDetail,\n",
        "    \"ChatResponse\": ChatResponse\n",
        "}\n",
        "\n",
        "import re\n",
        "\n",
        "\n",
        "import re\n",
        "import json\n",
        "\n",
        "def clean_json_string(json_str: str) -> str:\n",
        "    \"\"\"\n",
        "    Cleans up malformed JSON output from an LLM function call response.\n",
        "    - Ensures proper closing of quotes and brackets.\n",
        "    - Fixes truncated JSON issues.\n",
        "    - Removes trailing characters after JSON.\n",
        "    \"\"\"\n",
        "    if not isinstance(json_str, str):\n",
        "        return json_str  # Ensure it's a string before processing\n",
        "\n",
        "    json_str = json_str.strip()  # Remove leading/trailing spaces\n",
        "\n",
        "    # 🔹 Detect missing closing quote in \"text\" fields\n",
        "    quote_count = json_str.count('\"')\n",
        "    if quote_count % 2 != 0:  # Odd number of quotes → missing closing quote\n",
        "        json_str += '\"'  # Add missing quote to close the string\n",
        "\n",
        "    # 🔹 Fix unbalanced brackets `{}` or `[]`\n",
        "    open_braces = json_str.count(\"{\")\n",
        "    close_braces = json_str.count(\"}\")\n",
        "    if open_braces > close_braces:\n",
        "        json_str += \"}\" * (open_braces - close_braces)  # Add missing closing braces\n",
        "    elif close_braces > open_braces:\n",
        "        json_str = json_str.rstrip(\"}\")  # Remove excess closing braces\n",
        "\n",
        "    open_brackets = json_str.count(\"[\")\n",
        "    close_brackets = json_str.count(\"]\")\n",
        "    if open_brackets > close_brackets:\n",
        "        json_str += \"]\" * (open_brackets - close_brackets)\n",
        "    elif close_brackets > open_brackets:\n",
        "        json_str = json_str.rstrip(\"]\")\n",
        "\n",
        "    # 🔹 Remove trailing junk after JSON structure\n",
        "    json_str = re.sub(r'}[^\\}]*$', '}', json_str)  # Removes extra non-JSON text\n",
        "\n",
        "    # 🔹 Validate the fixed JSON\n",
        "    try:\n",
        "        parsed_json = json.loads(json_str)  # Ensure it's valid JSON\n",
        "        return json.dumps(parsed_json)  # Return cleaned JSON as a string\n",
        "    except json.JSONDecodeError:\n",
        "        return \"Error: Unable to fully clean JSON.\"\n",
        "\n"
      ],
      "metadata": {
        "id": "0FzLvkACeqOd"
      },
      "execution_count": null,
      "outputs": []
    },
    {
      "cell_type": "markdown",
      "source": [
        "### Handle the function call\n",
        "\n",
        "This function first checks for the Key \"function_call\" and if present extracts it and executes the function as a standard python function. It has a fallback to clean the string up if it is present but cannot be treated as JSON.\n"
      ],
      "metadata": {
        "id": "XMDo4FvVzdNd"
      }
    },
    {
      "cell_type": "code",
      "source": [
        "def handle_llama_function_call(response: dict, function_map: dict):\n",
        "    \"\"\"\n",
        "    Parses a response and determines if it's a function call or a normal chat response.\n",
        "    Robust Error catching.\n",
        "    Introducing 'Function Calls' has many opportunities to fail.\n",
        "    \"\"\"\n",
        "    try:\n",
        "        llama_message = response[\"choices\"][0][\"message\"]\n",
        "        print(llama_message)\n",
        "    except (KeyError, IndexError):\n",
        "        return \"Error: No valid message found in response.\"\n",
        "\n",
        "    function_call = llama_message.get(\"function_call\")\n",
        "\n",
        "    if not function_call:\n",
        "        print(\"No function_call detected. Cleaning content...\")\n",
        "\n",
        "        if \"content\" not in llama_message:\n",
        "            return \"Error: No 'content' field found in response.\"\n",
        "\n",
        "        # Clean the content string before parsing\n",
        "        cleaned_content = clean_json_string(llama_message[\"content\"])\n",
        "        print(f\"Cleaned JSON String: {cleaned_content}\")\n",
        "\n",
        "        # Try to parse the cleaned content\n",
        "        try:\n",
        "            function_call_wrapper = json.loads(cleaned_content)\n",
        "            print(f\"Parsed function_call: {function_call_wrapper}\")\n",
        "                    # Ensure function_call is a dictionary before proceeding\n",
        "            if not isinstance(function_call_wrapper, dict):\n",
        "                return f\"Error: Expected function_call to be a dictionary, but got {type(function_call_wrapper)}.\"\n",
        "                    # get map of function_call\n",
        "            function_call = function_call_wrapper.get(\"function_call\")\n",
        "            if not function_call:\n",
        "                return \"Error: No function_call found in function_call_wrapper.\"\n",
        "        except json.JSONDecodeError:\n",
        "            return f\"Error: Unable to parse function call: {cleaned_content}\"\n",
        "\n",
        "    function_name = function_call.get(\"name\")\n",
        "    # print(f\"Function Name: {function_name}\")\n",
        "\n",
        "    if not function_name:\n",
        "        return \"Error: No function name found in function_call.\"\n",
        "    args_str = function_call.get(\"arguments\", \"{}\")\n",
        "\n",
        "    # Ensure arguments are parsed correctly (handles nested JSON issue)\n",
        "    try:\n",
        "        function_args = json.loads(args_str) if isinstance(args_str, str) else args_str\n",
        "    except json.JSONDecodeError:\n",
        "        return f\"Error: Unable to parse function arguments: {args_str}\"\n",
        "\n",
        "    func = function_map.get(function_name)\n",
        "    if not func:\n",
        "        return f\"Error: No matching function for '{function_name}'\"\n",
        "\n",
        "    # Execute the function\n",
        "    result = func(**function_args)\n",
        "    return result\n"
      ],
      "metadata": {
        "id": "p0r8tsn-7O71"
      },
      "execution_count": null,
      "outputs": []
    },
    {
      "cell_type": "markdown",
      "source": [
        "### Test each function call and Prompt\n",
        "\n",
        "Here we are using the llama.cpp built in tool call framework to add tools to the prompt passed to the llm. This is based on the OpenAI function call standard, which is fairly universal.\n"
      ],
      "metadata": {
        "id": "GdbVidu21FbJ"
      }
    },
    {
      "cell_type": "code",
      "source": [
        "print(f\"Users Variable before: {users}\")\n",
        "test_function_call = llm.create_chat_completion(\n",
        "      messages = [\n",
        "        {\n",
        "          \"role\": \"system\",\n",
        "          \"content\": \"You are a function calling chatbot that responds in standard JSON format. The assistant gives helpful, detailed, and polite answers to the user's questions. The assistant calls functions with appropriate input when necessary\"\n",
        "\n",
        "        },\n",
        "        {\n",
        "          \"role\": \"user\",\n",
        "          \"content\": \"Extract Jason is 25 years old\"\n",
        "        }\n",
        "      ],\n",
        "      tools=[{\n",
        "        \"type\": \"function\",\n",
        "        \"function\": {\n",
        "          \"name\": \"UserDetail\",\n",
        "          \"parameters\": {\n",
        "            \"type\": \"object\",\n",
        "            \"title\": \"UserDetail\",\n",
        "            \"properties\": {\n",
        "              \"name\": {\n",
        "                \"title\": \"name\",\n",
        "                \"type\": \"string\"\n",
        "              },\n",
        "              \"age\": {\n",
        "                \"title\": \"age\",\n",
        "                \"type\": \"integer\"\n",
        "              }\n",
        "            },\n",
        "            \"required\": [ \"name\", \"age\" ]\n",
        "          }\n",
        "        }\n",
        "      }],\n",
        "      tool_choice={\n",
        "        \"type\": \"function\",\n",
        "        \"function\": {\n",
        "          \"name\": \"UserDetail\"\n",
        "        }\n",
        "      }\n",
        ")\n",
        "\n",
        "print(test_function_call)\n",
        "handle_llama_function_call(test_function_call, FUNCTION_MAP)\n",
        "print(f\"Users Variable after: {users}\")"
      ],
      "metadata": {
        "id": "9EoQsbnqQGDZ",
        "colab": {
          "base_uri": "https://localhost:8080/"
        },
        "outputId": "15c06191-5dd6-4cfe-9443-68ed5cc01239"
      },
      "execution_count": null,
      "outputs": [
        {
          "output_type": "stream",
          "name": "stdout",
          "text": [
            "Users Variable before: {}\n",
            "{'id': 'chatcmpl-8b158ee7-5dfd-44de-8073-ccd223ddb3a2', 'object': 'chat.completion', 'created': 1738430580, 'model': '/content/notebooks/OpenCoder-8B-Instruct-Q6_K_L.gguf', 'choices': [{'index': 0, 'message': {'role': 'assistant', 'content': None, 'function_call': {'name': 'UserDetail', 'arguments': '{\"name\": \"ExtractJason\", \"age\": 25} '}, 'tool_calls': [{'id': 'call__0_UserDetail_cmpl-8b158ee7-5dfd-44de-8073-ccd223ddb3a2', 'type': 'function', 'function': {'name': 'UserDetail', 'arguments': '{\"name\": \"ExtractJason\", \"age\": 25} '}}]}, 'logprobs': None, 'finish_reason': 'tool_calls'}], 'usage': {'prompt_tokens': 61, 'completion_tokens': 14, 'total_tokens': 75}}\n",
            "{'role': 'assistant', 'content': None, 'function_call': {'name': 'UserDetail', 'arguments': '{\"name\": \"ExtractJason\", \"age\": 25} '}, 'tool_calls': [{'id': 'call__0_UserDetail_cmpl-8b158ee7-5dfd-44de-8073-ccd223ddb3a2', 'type': 'function', 'function': {'name': 'UserDetail', 'arguments': '{\"name\": \"ExtractJason\", \"age\": 25} '}}]}\n",
            "Users Variable after: {'ExtractJason': {'name': 'ExtractJason', 'age': 25}}\n"
          ]
        }
      ]
    },
    {
      "cell_type": "code",
      "source": [
        "test_function_call = llm.create_chat_completion(\n",
        "      messages = [\n",
        "        {\n",
        "          \"role\": \"system\",\n",
        "          \"content\": \"You are a function calling chatbot that responds in standard JSON format. The assistant gives helpful, detailed, and polite answers to the user's questions. The assistant calls functions with appropriate input when necessary\"\n",
        "\n",
        "        },\n",
        "        {\n",
        "          \"role\": \"user\",\n",
        "          \"content\": \"Respond to Hello?\"\n",
        "        }\n",
        "      ],\n",
        "      tools=[{\n",
        "      \"type\": \"function\",\n",
        "      \"function\": {\n",
        "        \"name\": \"ChatResponse\",\n",
        "\n",
        "        \"parameters\": {\n",
        "          \"type\": \"object\",\n",
        "          \"properties\": {\n",
        "            \"text\": {\n",
        "              \"type\": \"string\",\n",
        "\n",
        "            }\n",
        "          },\n",
        "          \"required\": [\"text\"]\n",
        "        }\n",
        "      }\n",
        "    }],\n",
        "      tool_choice={\n",
        "        \"type\": \"function\",\n",
        "        \"function\": {\n",
        "          \"name\": \"ChatResponse\"\n",
        "        }\n",
        "      }\n",
        ")\n",
        "\n",
        "handle_llama_function_call(test_function_call, FUNCTION_MAP)"
      ],
      "metadata": {
        "id": "NsnXiT0MAEvF",
        "colab": {
          "base_uri": "https://localhost:8080/",
          "height": 72
        },
        "outputId": "cae97df3-f943-4581-fa3a-758f0e6ab3b0"
      },
      "execution_count": null,
      "outputs": [
        {
          "output_type": "stream",
          "name": "stdout",
          "text": [
            "{'role': 'assistant', 'content': None, 'function_call': {'name': 'ChatResponse', 'arguments': '{\"text\": \"Hello! How can I assist you today?\"} '}, 'tool_calls': [{'id': 'call__0_ChatResponse_cmpl-6c576baf-2cc5-4aea-80d8-b93bbb1f35f1', 'type': 'function', 'function': {'name': 'ChatResponse', 'arguments': '{\"text\": \"Hello! How can I assist you today?\"} '}}]}\n"
          ]
        },
        {
          "output_type": "execute_result",
          "data": {
            "text/plain": [
              "'Hello! How can I assist you today?'"
            ],
            "application/vnd.google.colaboratory.intrinsic+json": {
              "type": "string"
            }
          },
          "metadata": {},
          "execution_count": 31
        }
      ]
    },
    {
      "cell_type": "markdown",
      "source": [
        "### Rebuild the tools list to include both tools\n",
        "\n",
        "Each tool worked seperately. Now we test if the LLM can make a \"decision\" on which tool to use and respond appropriately. To do this we need to provide it with both tools"
      ],
      "metadata": {
        "id": "V2UKJ8zU168I"
      }
    },
    {
      "cell_type": "code",
      "source": [
        "\n",
        "tool_choice = [\n",
        "    {\n",
        "        \"type\": \"function\",\n",
        "        \"function\": {\n",
        "            \"name\": \"ChatResponse\"\n",
        "        }\n",
        "    },\n",
        "    {\n",
        "        \"type\": \"function\",\n",
        "        \"function\": {\n",
        "            \"name\": \"UserDetail\"\n",
        "        }\n",
        "    }\n",
        "]\n"
      ],
      "metadata": {
        "id": "hKhIIlSE9Vys"
      },
      "execution_count": null,
      "outputs": []
    },
    {
      "cell_type": "markdown",
      "source": [
        "### Rework the system prompt\n",
        "\n",
        "We need to write a very explicit and clear prompt to guide the LLM on what to do and what the tools provided do. This prompt was generating uses a technique called \"Meta-prompting\". I wrote the initial prompt which got about 80% accuracy from the llm. Then I asked GPT-o1 to rewrite and clarify the prompt which is provided here. With a little further refinement we now have a *mostly accurate function call prompt.\n",
        "\n"
      ],
      "metadata": {
        "id": "Iu34VKLR2f4_"
      }
    },
    {
      "cell_type": "code",
      "source": [
        "system_prompt = \"\"\"You are a function call system that ALWAYS responds with a VALID JSON object.\n",
        " **RULE: The JSON MUST ALWAYS BE PROPERLY CLOSED with a SINGLE `}` at the end.**\n",
        "\n",
        "Your response MUST follow these rules:\n",
        "\n",
        "1. **No Disclaimers**: Do NOT include phrases like \"As an AI\" or \"I am a Machine Learning model.\" Focus ONLY on the user's request.\n",
        "\n",
        "2. **STRICT JSON-Only Mode**: NEVER return plain text outside JSON.\n",
        "   - Your entire response must be a **single valid JSON object**.\n",
        "   - Example: { \"function_call\": { \"name\": \"FUNCTION_NAME\", \"arguments\": { \"KEY_1\": \"value1\", \"KEY_2\": \"value2\" } } }\n",
        "\n",
        "3. **Key Requirements**:\n",
        "- The **ONLY** top-level key is `\"function_call\"`. No other keys allowed.\n",
        "- Inside `\"function_call\"`, include:\n",
        "  - `\"name\"`: Either `\"UserDetail\"` or `\"ChatResponse\"`.\n",
        "  - `\"arguments\"`: A **valid JSON object** with the required fields.\n",
        "\n",
        "4. **Function Behavior**:\n",
        "- If the user enters `\"ADD\"` followed by a **name and age**, call:\n",
        "{ \"function_call\": { \"name\": \"UserDetail\", \"arguments\": { \"name\": \"<name>\", \"age\": <integer> } } }\n",
        "\n",
        "- For ALL other inputs, return:\n",
        "{ \"function_call\": { \"name\": \"ChatResponse\", \"arguments\": { \"text\": \"<your response>\" } } }\n",
        "\n",
        "5. **STRICT JSON Formatting**:\n",
        "- NEVER return **duplicate** `\"function_call\"` keys.\n",
        "- NEVER add **extra fields** like `\"role\"` or `\"content\"`.\n",
        "- Your response must be a **fully closed JSON object**.\n",
        "\n",
        "6. **Line Breaks**:\n",
        "- All line breaks in `\"text\"` **MUST** be escaped as `\"\\\\n\"`.\n",
        "- ✅ Correct: `\"text\": \"Hello\\\\nWorld\"`\n",
        "- ❌ Incorrect: `\"text\": \"Hello\n",
        "World\"`\n",
        "\n",
        "7. **Ensure the JSON Closes Properly**:\n",
        "- Your response MUST always **end with exactly one `}`**.\n",
        "- If the response is too long, TRUNCATE at a full sentence, NEVER mid-word or mid-key.\n",
        "\n",
        "8. **STOP Token**:\n",
        "- When you finish, **append `[STOP]` at the end of `\"text\"` or `\"arguments\"`**.\n",
        "- Example:\n",
        "{ \"function_call\": { \"name\": \"ChatResponse\", \"arguments\": { \"text\": \"Hello!\\nWhat can I do for you?[STOP]\" } } }\n",
        "\n",
        "🚨 **WARNING:** Failing to follow these rules will break system function calls. ONLY valid JSON is allowed.\"\"\"\n",
        "\n"
      ],
      "metadata": {
        "id": "WlftaMFp2k9j"
      },
      "execution_count": null,
      "outputs": []
    },
    {
      "cell_type": "markdown",
      "source": [
        "### Call the LLM\n",
        "\n",
        "The actual call to the LLM is nearly identical to the prior functions. We lower the temperature some and pass the list tool_choice."
      ],
      "metadata": {
        "id": "l9mdZZR13KuU"
      }
    },
    {
      "cell_type": "code",
      "source": [
        "\n",
        "\n",
        "def do_function_calls(user_input):\n",
        "    response = llm.create_chat_completion(\n",
        "        max_tokens=1024,\n",
        "        repeat_penalty=1.2,\n",
        "      temperature=0.4,\n",
        "      stop=[\"[STOP]\"],\n",
        "        messages=[\n",
        "            {\"role\": \"system\", \"content\": system_prompt},\n",
        "            {\"role\": \"user\", \"content\": user_input}\n",
        "        ],\n",
        "        tool_choice= tool_choice\n",
        "\n",
        "        # The list of both function schemas\n",
        "\n",
        "    )\n",
        "    return handle_llama_function_call(response, FUNCTION_MAP)\n"
      ],
      "metadata": {
        "id": "qjYokrqryh_6"
      },
      "execution_count": null,
      "outputs": []
    },
    {
      "cell_type": "code",
      "source": [
        "do_function_calls(\"ADD Alan is 39 years old\")"
      ],
      "metadata": {
        "id": "NzQq2mCuBkJw",
        "colab": {
          "base_uri": "https://localhost:8080/",
          "height": 125
        },
        "outputId": "db50cf87-5ebb-44ac-dd0e-606667b2d97b"
      },
      "execution_count": null,
      "outputs": [
        {
          "output_type": "stream",
          "name": "stdout",
          "text": [
            "{'role': 'assistant', 'content': '{ \"function_call\": { \"name\": \"UserDetail\", \"arguments\": { \"name\": \"Alan\", \"age\": 39 } } }\\n'}\n",
            "No function_call detected. Cleaning content...\n",
            "Cleaned JSON String: {\"function_call\": {\"name\": \"UserDetail\", \"arguments\": {\"name\": \"Alan\", \"age\": 39}}}\n",
            "Parsed function_call: {'function_call': {'name': 'UserDetail', 'arguments': {'name': 'Alan', 'age': 39}}}\n"
          ]
        },
        {
          "output_type": "execute_result",
          "data": {
            "text/plain": [
              "'User Alan added successfully.\", \"data\": {\\'name\\': \\'Alan\\', \\'age\\': 39}'"
            ],
            "application/vnd.google.colaboratory.intrinsic+json": {
              "type": "string"
            }
          },
          "metadata": {},
          "execution_count": 35
        }
      ]
    },
    {
      "cell_type": "code",
      "source": [
        "do_function_calls(\"Hello! What functions do you have?\")"
      ],
      "metadata": {
        "id": "JxlYkS0ZJ3tD",
        "colab": {
          "base_uri": "https://localhost:8080/",
          "height": 125
        },
        "outputId": "dba3d104-5e25-4772-9e12-cdd56465b17e"
      },
      "execution_count": null,
      "outputs": [
        {
          "output_type": "stream",
          "name": "stdout",
          "text": [
            "{'role': 'assistant', 'content': '{ \"function_call\": { \"name\": \"ChatResponse\", \"arguments\": { \"text\": \"I currently support the following functionalities: UserDetail, ChatResponse.'}\n",
            "No function_call detected. Cleaning content...\n",
            "Cleaned JSON String: {\"function_call\": {\"name\": \"ChatResponse\", \"arguments\": {\"text\": \"I currently support the following functionalities: UserDetail, ChatResponse.\"}}}\n",
            "Parsed function_call: {'function_call': {'name': 'ChatResponse', 'arguments': {'text': 'I currently support the following functionalities: UserDetail, ChatResponse.'}}}\n"
          ]
        },
        {
          "output_type": "execute_result",
          "data": {
            "text/plain": [
              "'I currently support the following functionalities: UserDetail, ChatResponse.'"
            ],
            "application/vnd.google.colaboratory.intrinsic+json": {
              "type": "string"
            }
          },
          "metadata": {},
          "execution_count": 36
        }
      ]
    },
    {
      "cell_type": "markdown",
      "source": [
        "### Function Call Loop\n",
        "\n"
      ],
      "metadata": {
        "id": "hI3Xdtl63qy0"
      }
    },
    {
      "cell_type": "code",
      "source": [
        "def function_chat_loop():\n",
        "    print(\"Welcome to the *User Name and Age* Data Storage Tool! (Type 'exit' to quit)\")\n",
        "    print(\"Type in a name and age and it will be stored\")\n",
        "\n",
        "    while True:\n",
        "        # Prompt the user\n",
        "        user_query = input(\"\\nUser: \").strip()\n",
        "\n",
        "        # Exit on demand\n",
        "        if user_query.lower() in [\"exit\", \"quit\"]:\n",
        "            print(\"Goodbye!\")\n",
        "            break\n",
        "\n",
        "        response = do_function_calls(user_query)\n",
        "\n",
        "        print()  # Add a newline for better formatting\n",
        "        print(response)\n"
      ],
      "metadata": {
        "id": "DVYz43J0yhuh"
      },
      "execution_count": null,
      "outputs": []
    },
    {
      "cell_type": "code",
      "source": [
        "# Finally, call the function:\n",
        "function_chat_loop()"
      ],
      "metadata": {
        "id": "ogrI00fn-h3t",
        "colab": {
          "base_uri": "https://localhost:8080/"
        },
        "outputId": "7a730d37-cc51-4d95-9161-1bd85e9e2e4e"
      },
      "execution_count": null,
      "outputs": [
        {
          "output_type": "stream",
          "name": "stdout",
          "text": [
            "Welcome to the *User Name and Age* Data Storage Tool! (Type 'exit' to quit)\n",
            "Type in a name and age and it will be stored\n",
            "\n",
            "User: ADD Stefanie Age 35\n",
            "{'role': 'assistant', 'content': '{ \"function_call\": { \"name\": \"UserDetail\", \"arguments\": { \"name\": \"Stefanie\", \"age\": 35 } } }\\n'}\n",
            "No function_call detected. Cleaning content...\n",
            "Cleaned JSON String: {\"function_call\": {\"name\": \"UserDetail\", \"arguments\": {\"name\": \"Stefanie\", \"age\": 35}}}\n",
            "Parsed function_call: {'function_call': {'name': 'UserDetail', 'arguments': {'name': 'Stefanie', 'age': 35}}}\n",
            "\n",
            "User Stefanie added successfully.\", \"data\": {'name': 'Stefanie', 'age': 35}\n"
          ]
        }
      ]
    },
    {
      "cell_type": "code",
      "source": [
        "print(users)\n"
      ],
      "metadata": {
        "id": "Iac6ThTr-QBA"
      },
      "execution_count": null,
      "outputs": []
    },
    {
      "cell_type": "markdown",
      "source": [
        "# What We've Learned\n",
        "\n",
        "- Understand how to prepare a Colab environment for LLM deployment.\n",
        "- See how to load and run a quantized model (in GGUF format) locally.\n",
        "- Explore chat features like streaming responses and memory.\n",
        "- Get a quick introduction to Retrieval-Augmented Generation (RAG) workflows.\n",
        "- Take a look at function calling concepts with open-source LLMs."
      ],
      "metadata": {
        "id": "2BB8im0bFW8I"
      }
    },
    {
      "cell_type": "markdown",
      "source": [
        "# What to Try Next?\n",
        "\n",
        "**1. Experiment With Different System Messages**\n",
        "\n",
        "    Why: The system message heavily influences the LLM’s behavior (tone, style, etc.).\n",
        "    How: Try adjusting style:\n",
        "    - Casual Buddy: “You are a friendly assistant who jokes around with the user.”\n",
        "    - Strict Instructor: “You are a concise tutor who never uses more than 20 words per sentence.”\n",
        "    - What to Watch For:\n",
        "        Compare how the same user query yields different responses depending on the system message.\n",
        "\n",
        "**2. Add More Function Calls**\n",
        "\n",
        "    Idea: Expand your function map beyond UserDetail and ChatResponse.\n",
        "    Potential New Functions:\n",
        "    - Weather Inquiry: get_weather(city: str, date: Optional[str]) -> dict\n",
        "        - The model can output real-time weather calls (you’d stub or integrate a real API).\n",
        "    - Calculator: calculate(expression: str) -> float\n",
        "        - The model can produce math solutions with an external function.\n",
        "    - Database Lookup: lookup_user_profile(username: str) -> dict\n",
        "        - The model can retrieve user data from a local dictionary or DB.\n",
        "    \n",
        "    Benefit: This transforms your chatbot into a multi-tool system capable of performing real actions based on user prompts.\n",
        "\n",
        "**3. Try Different Quantized Models or Formats**\n",
        "\n",
        "    Reason: Not all quantized models behave the same; each has its own performance vs. accuracy trade-offs.\n",
        "    \n",
        "    Examples:\n",
        "    - 7B vs. 13B vs. 30B LLaMA or OpenCoder variants.\n",
        "    - GGUF vs. GGML vs. CPU-based quantizations.\n",
        "\n",
        "    What to Compare:\n",
        "      - Generation speed (tokens/s).\n",
        "      - Response coherence/quality.\n",
        "      - GPU/CPU memory usage.\n",
        "\n",
        "**4. Integrate Image Generation or Multimodal Models**\n",
        "\n",
        "    Approach: Call a function that taps into a text-to-image model (e.g., Stable Diffusion, SDXL).\n",
        "    \n",
        "**5. Play With Other Modalities**\n",
        "\n",
        "    - Audio: Convert user queries to text via speech-to-text (e.g., OpenAI - - - Whisper or any open-source alternative) and feed them to your chatbot.\n",
        "    - Video: Basic video summarization or caption generation. You’d pass frames or transcripts to the LLM for summary.\n",
        "    - Custom Data: Train or fine-tune an LLM on your own dataset (like specialized documents), then integrate that specialized knowledge.\n",
        "\n",
        "**6. Enhance Retrieval-Augmented Generation (RAG)**\n",
        "\n",
        "    Why: Make your bot more knowledgeable about specific domains (e.g., legal, academic, or game lore).\n",
        "    How:\n",
        "    - Expand your corpus beyond the current dataset (Colorado Constitution, etc.).\n",
        "    - Use a vector database (like Milvus or FAISS) for faster, scalable retrieval.\n",
        "    - Incorporate and explore Knowledge Graphs\n",
        "    - Experiment with chunk sizes and embedding models for better relevance.\n",
        "\n",
        "**7. Join an Open Model Project**\n",
        "\n",
        "  The goal of this repo is to build the missing pieces of the R1 pipeline such that everybody can reproduce and build on top of it. The project is simple by design and mostly consists of:\n",
        "\n",
        "  https://github.com/huggingface/open-r1"
      ],
      "metadata": {
        "id": "jLMxHJGofXzP"
      }
    },
    {
      "cell_type": "markdown",
      "source": [
        "# **Resources Used**\n",
        "\n",
        "Note: These open-source tools are continually evolving, and new quantization formats or faster inference backends are appearing regularly. Keep an eye on the llama.cpp project and the broader HF ecosystem to stay updated.\n",
        "\n",
        "\n",
        "Model : [OpenCoder-8B-Instruct-Q5_K_L ](https://huggingface.co/infly/OpenCoder-8B-Instruct)\n",
        "\n",
        "llama.cpp : [llama-cpp-python bindings](https://github.com/abetlen/llama-cpp-python)\n",
        "\n",
        "Embedding Model : [BAAI bge-m3](https://huggingface.co/BAAI/bge-m3)\n",
        "\n",
        "Hugging Face Hub : [Huggingface.co](https://huggingface.co/)\n",
        "\n"
      ],
      "metadata": {
        "id": "JXNShtay2vd2"
      }
    },
    {
      "cell_type": "markdown",
      "source": [
        "# Vocabulary\n",
        "\n",
        "##General AI & Machine Learning Terms\n",
        "1. **Model**\n",
        "\n",
        "    Definition: A trained machine learning system that takes an input (like a user’s message) and generates an output (like a chatbot’s response).\n",
        "    Example: GPT-4, Llama 2, OpenCoder-8B.\n",
        "    \n",
        "2. **Training**\n",
        "\n",
        "    Definition: The process of teaching an AI model by exposing it to large amounts of text data so it can learn patterns, grammar, and reasoning.\n",
        "\n",
        "3. **Fine-Tuning**\n",
        "\n",
        "    Definition: Taking a pre-trained model and refining it further on a specific dataset to specialize in certain tasks.\n",
        "   \n",
        "4. **Inference**\n",
        "\n",
        "    Definition: The process of making predictions or generating responses based on a trained model.\n",
        "   \n",
        "## Language Model-Specific Terms\n",
        "5. **Token**\n",
        "\n",
        "    Definition: The smallest unit of text a model processes. A token can be a word, subword, or even a single character.\n",
        "    Example:\n",
        "        \"Hello\" = 1 token\n",
        "        \"Artificial Intelligence\" = 2 tokens\n",
        "        \"AI\" = 1 token\n",
        "\n",
        "6. **Tokenization**\n",
        "\n",
        "    Definition: The process of breaking text into tokens so an AI model can process it.\n",
        "    Example: \"Hello, world!\" → [\"Hello\", \",\", \"world\", \"!\"]\n",
        "\n",
        "7. **Context Window**\n",
        "\n",
        "    Definition: The maximum number of tokens a model can process in one request.\n",
        "    Example: If a model has a 4096-token context window, it can \"remember\" only the last 4096 tokens when generating a response.\n",
        "    Impact: If your conversation is too long, the model forgets earlier parts.\n",
        "\n",
        "8. **Embeddings**\n",
        "\n",
        "    Definition: Numerical representations of words or sentences that capture meaning in a way that machines understand.\n",
        "    Example: The words \"dog\" and \"puppy\" will have similar embeddings because they have similar meanings.\n",
        "\n",
        "9. **Retrieval-Augmented Generation (RAG)**\n",
        "\n",
        "    Definition: A technique where a chatbot retrieves relevant external documents before generating a response.\n",
        "   \n",
        "10. **Prompt**\n",
        "\n",
        "    Definition: The input text given to a model to generate a response.\n",
        "    \n",
        "11. **System Prompt**\n",
        "\n",
        "    Definition: A special instruction that guides the behavior of an AI model before any user input.\n",
        "\n",
        "12. **Temperature**\n",
        "\n",
        "    Definition: A setting that controls how random or creative the model's responses are.\n",
        "    Example:\n",
        "        Low (0.1): Precise and deterministic.\n",
        "        High (1.0): More random and creative.\n",
        "\n",
        "13. **Stop Sequence**\n",
        "\n",
        "    Definition: A predefined sequence of characters that tells the model when to stop generating text.\n",
        "  \n",
        "## Hardware & Performance Terms\n",
        "14. **Quantization**\n",
        "\n",
        "    Definition: The process of compressing an AI model to run efficiently on lower-powered hardware. Shortening the coordinate of the vector from 32bit float -> 16, 8, or less bits.\n",
        "    \n",
        "15. **GPU Acceleration**\n",
        "\n",
        "    Definition: Using a Graphics Processing Unit (GPU) to speed up AI computations.\n",
        "  \n",
        "16. **VRAM (Video RAM)**\n",
        "\n",
        "    Definition: The memory available on a GPU, affecting how large an AI model you can load.\n",
        "   \n",
        "\n"
      ],
      "metadata": {
        "id": "X1RnNEKWN55e"
      }
    },
    {
      "cell_type": "markdown",
      "source": [
        "# Advanced Vocabulary\n",
        "1. **Vector**\n",
        "A vector is just a list of numbers that represent something in a way a computer can understand.\n",
        "\n",
        "Think of a vector as:\n",
        "\n",
        "    A shopping list with quantities: [2 apples, 3 bananas, 1 orange]\n",
        "    A GPS location with coordinates: [latitude, longitude]\n",
        "    A movie’s characteristics: [Action: 8, Romance: 2, Comedy: 5]\n",
        "\n",
        "Why Are Vectors Useful?\n",
        "\n",
        "Vectors help computers store and compare information efficiently.\n",
        "For example, if we represent words as vectors, we can find words with similar meanings by comparing their vectors!\n",
        "Visualizing Vectors\n",
        "\n",
        "Imagine a vector as an arrow in space:\n",
        "\n",
        "    Short arrows mean small numbers (small impact).\n",
        "    Long arrows mean big numbers (strong impact).\n",
        "    Direction matters—two arrows pointing the same way are more similar than arrows pointing in opposite directions.\n",
        "\n",
        "2. **Dot Product**\n",
        "The dot product is a way to measure how similar two lists of numbers (vectors) are.\n",
        "\n",
        "Imagine each vector as a list of features, like:\n",
        "\n",
        "    A person's height, weight, and age.\n",
        "    A movie's rating on different aspects (acting, story, visuals).\n",
        "    A word's relationship to different meanings.\n",
        "\n",
        "How It Works:\n",
        "\n",
        "To calculate the dot product, you:\n",
        "\n",
        "    Multiply each pair of numbers in the two lists.\n",
        "    Add up all those multiplied values.\n",
        "\n",
        "Example Calculation:\n",
        "\n",
        "If you have two vectors:\n",
        "\n",
        "A = [2, 3, 4]  \n",
        "B = [1, 5, 2]\n",
        "\n",
        "The dot product is:\n",
        "\n",
        "(2×1) + (3×5) + (4×2) = 2 + 15 + 8 = 25\n",
        "\n",
        "Why It’s Useful?\n",
        "\n",
        "    If the dot product is large, the two vectors are similar.\n",
        "    If the dot product is zero, the vectors are unrelated.\n",
        "    If the dot product is negative, they are opposite in some way.\n",
        "3. **Nearest Neighbor**\n",
        "\n",
        "Imagine you're at a party and you want to find the person who looks the most like your friend. You scan the room and compare faces—whoever looks most similar is your nearest neighbor.\n",
        "\n",
        "In AI and machine learning, nearest neighbor means:\n",
        "👉 Finding the most similar item based on a mathematical comparison.\n",
        "\n",
        "💡 Example:\n",
        "\n",
        "    In a recommendation system, if you like a certain movie, the system finds movies with the most similar features (genre, actors, rating, etc.).\n",
        "    In image search, if you upload a picture of a dog, the system finds pictures with the most similar patterns of colors and shapes.\n",
        "\n",
        "4. **Top-K**\n",
        "\n",
        "\"Top-K\" is just a fancy way of saying \"give me the best K matches.\"\n",
        "\n",
        "    \"Top-3 pizza places\" → The 3 highest-rated pizza places.\n",
        "    \"Top-5 nearest neighbors\" → The 5 most similar items.\n",
        "\n",
        "💡 Example:\n",
        "If you search for a product, an online store might show you the Top-5 recommendations that match what you're looking for."
      ],
      "metadata": {
        "id": "K6r2qMTesb6Y"
      }
    },
    {
      "cell_type": "markdown",
      "source": [
        "# Licensed under the GPLv3\n",
        "\n",
        "  This program is free software: you can redistribute it and/or modify it under the terms of the GNU General Public License as published by the Free Software Foundation, either version 3 of the License, or (at your option) any later version.\n",
        "\n",
        "This program is distributed in the hope that it will be useful, but WITHOUT ANY WARRANTY; without even the implied warranty of MERCHANTABILITY or FITNESS FOR A PARTICULAR PURPOSE. See the GNU General Public License for more details.\n",
        "\n",
        "You should have received a copy of the GNU General Public License along with this program. If not, see <https://www.gnu.org/licenses/>.\n",
        "\n",
        "                    GNU GENERAL PUBLIC LICENSE\n",
        "                       Version 3, 29 June 2007\n",
        "\n",
        " Copyright (C) 2007 Free Software Foundation, Inc. <https://fsf.org/>\n",
        " Everyone is permitted to copy and distribute verbatim copies\n",
        " of this license document, but changing it is not allowed.\n",
        "\n",
        "                            Preamble\n",
        "\n",
        "  The GNU General Public License is a free, copyleft license for\n",
        "software and other kinds of works.\n",
        "\n",
        "  The licenses for most software and other practical works are designed\n",
        "to take away your freedom to share and change the works.  By contrast,\n",
        "the GNU General Public License is intended to guarantee your freedom to\n",
        "share and change all versions of a program--to make sure it remains free\n",
        "software for all its users.  We, the Free Software Foundation, use the\n",
        "GNU General Public License for most of our software; it applies also to\n",
        "any other work released this way by its authors.  You can apply it to\n",
        "your programs, too.\n",
        "\n",
        "  When we speak of free software, we are referring to freedom, not\n",
        "price.  Our General Public Licenses are designed to make sure that you\n",
        "have the freedom to distribute copies of free software (and charge for\n",
        "them if you wish), that you receive source code or can get it if you\n",
        "want it, that you can change the software or use pieces of it in new\n",
        "free programs, and that you know you can do these things.\n",
        "\n",
        "  To protect your rights, we need to prevent others from denying you\n",
        "these rights or asking you to surrender the rights.  Therefore, you have\n",
        "certain responsibilities if you distribute copies of the software, or if\n",
        "you modify it: responsibilities to respect the freedom of others.\n",
        "\n",
        "  For example, if you distribute copies of such a program, whether\n",
        "gratis or for a fee, you must pass on to the recipients the same\n",
        "freedoms that you received.  You must make sure that they, too, receive\n",
        "or can get the source code.  And you must show them these terms so they\n",
        "know their rights.\n",
        "\n",
        "  Developers that use the GNU GPL protect your rights with two steps:\n",
        "(1) assert copyright on the software, and (2) offer you this License\n",
        "giving you legal permission to copy, distribute and/or modify it.\n",
        "\n",
        "  For the developers' and authors' protection, the GPL clearly explains\n",
        "that there is no warranty for this free software.  For both users' and\n",
        "authors' sake, the GPL requires that modified versions be marked as\n",
        "changed, so that their problems will not be attributed erroneously to\n",
        "authors of previous versions.\n",
        "\n",
        "  Some devices are designed to deny users access to install or run\n",
        "modified versions of the software inside them, although the manufacturer\n",
        "can do so.  This is fundamentally incompatible with the aim of\n",
        "protecting users' freedom to change the software.  The systematic\n",
        "pattern of such abuse occurs in the area of products for individuals to\n",
        "use, which is precisely where it is most unacceptable.  Therefore, we\n",
        "have designed this version of the GPL to prohibit the practice for those\n",
        "products.  If such problems arise substantially in other domains, we\n",
        "stand ready to extend this provision to those domains in future versions\n",
        "of the GPL, as needed to protect the freedom of users.\n",
        "\n",
        "  Finally, every program is threatened constantly by software patents.\n",
        "States should not allow patents to restrict development and use of\n",
        "software on general-purpose computers, but in those that do, we wish to\n",
        "avoid the special danger that patents applied to a free program could\n",
        "make it effectively proprietary.  To prevent this, the GPL assures that\n",
        "patents cannot be used to render the program non-free.\n",
        "\n",
        "  The precise terms and conditions for copying, distribution and\n",
        "modification follow.\n",
        "\n",
        "                       TERMS AND CONDITIONS\n",
        "\n",
        "  0. Definitions.\n",
        "\n",
        "  \"This License\" refers to version 3 of the GNU General Public License.\n",
        "\n",
        "  \"Copyright\" also means copyright-like laws that apply to other kinds of\n",
        "works, such as semiconductor masks.\n",
        "\n",
        "  \"The Program\" refers to any copyrightable work licensed under this\n",
        "License.  Each licensee is addressed as \"you\".  \"Licensees\" and\n",
        "\"recipients\" may be individuals or organizations.\n",
        "\n",
        "  To \"modify\" a work means to copy from or adapt all or part of the work\n",
        "in a fashion requiring copyright permission, other than the making of an\n",
        "exact copy.  The resulting work is called a \"modified version\" of the\n",
        "earlier work or a work \"based on\" the earlier work.\n",
        "\n",
        "  A \"covered work\" means either the unmodified Program or a work based\n",
        "on the Program.\n",
        "\n",
        "  To \"propagate\" a work means to do anything with it that, without\n",
        "permission, would make you directly or secondarily liable for\n",
        "infringement under applicable copyright law, except executing it on a\n",
        "computer or modifying a private copy.  Propagation includes copying,\n",
        "distribution (with or without modification), making available to the\n",
        "public, and in some countries other activities as well.\n",
        "\n",
        "  To \"convey\" a work means any kind of propagation that enables other\n",
        "parties to make or receive copies.  Mere interaction with a user through\n",
        "a computer network, with no transfer of a copy, is not conveying.\n",
        "\n",
        "  An interactive user interface displays \"Appropriate Legal Notices\"\n",
        "to the extent that it includes a convenient and prominently visible\n",
        "feature that (1) displays an appropriate copyright notice, and (2)\n",
        "tells the user that there is no warranty for the work (except to the\n",
        "extent that warranties are provided), that licensees may convey the\n",
        "work under this License, and how to view a copy of this License.  If\n",
        "the interface presents a list of user commands or options, such as a\n",
        "menu, a prominent item in the list meets this criterion.\n",
        "\n",
        "  1. Source Code.\n",
        "\n",
        "  The \"source code\" for a work means the preferred form of the work\n",
        "for making modifications to it.  \"Object code\" means any non-source\n",
        "form of a work.\n",
        "\n",
        "  A \"Standard Interface\" means an interface that either is an official\n",
        "standard defined by a recognized standards body, or, in the case of\n",
        "interfaces specified for a particular programming language, one that\n",
        "is widely used among developers working in that language.\n",
        "\n",
        "  The \"System Libraries\" of an executable work include anything, other\n",
        "than the work as a whole, that (a) is included in the normal form of\n",
        "packaging a Major Component, but which is not part of that Major\n",
        "Component, and (b) serves only to enable use of the work with that\n",
        "Major Component, or to implement a Standard Interface for which an\n",
        "implementation is available to the public in source code form.  A\n",
        "\"Major Component\", in this context, means a major essential component\n",
        "(kernel, window system, and so on) of the specific operating system\n",
        "(if any) on which the executable work runs, or a compiler used to\n",
        "produce the work, or an object code interpreter used to run it.\n",
        "\n",
        "  The \"Corresponding Source\" for a work in object code form means all\n",
        "the source code needed to generate, install, and (for an executable\n",
        "work) run the object code and to modify the work, including scripts to\n",
        "control those activities.  However, it does not include the work's\n",
        "System Libraries, or general-purpose tools or generally available free\n",
        "programs which are used unmodified in performing those activities but\n",
        "which are not part of the work.  For example, Corresponding Source\n",
        "includes interface definition files associated with source files for\n",
        "the work, and the source code for shared libraries and dynamically\n",
        "linked subprograms that the work is specifically designed to require,\n",
        "such as by intimate data communication or control flow between those\n",
        "subprograms and other parts of the work.\n",
        "\n",
        "  The Corresponding Source need not include anything that users\n",
        "can regenerate automatically from other parts of the Corresponding\n",
        "Source.\n",
        "\n",
        "  The Corresponding Source for a work in source code form is that\n",
        "same work.\n",
        "\n",
        "  2. Basic Permissions.\n",
        "\n",
        "  All rights granted under this License are granted for the term of\n",
        "copyright on the Program, and are irrevocable provided the stated\n",
        "conditions are met.  This License explicitly affirms your unlimited\n",
        "permission to run the unmodified Program.  The output from running a\n",
        "covered work is covered by this License only if the output, given its\n",
        "content, constitutes a covered work.  This License acknowledges your\n",
        "rights of fair use or other equivalent, as provided by copyright law.\n",
        "\n",
        "  You may make, run and propagate covered works that you do not\n",
        "convey, without conditions so long as your license otherwise remains\n",
        "in force.  You may convey covered works to others for the sole purpose\n",
        "of having them make modifications exclusively for you, or provide you\n",
        "with facilities for running those works, provided that you comply with\n",
        "the terms of this License in conveying all material for which you do\n",
        "not control copyright.  Those thus making or running the covered works\n",
        "for you must do so exclusively on your behalf, under your direction\n",
        "and control, on terms that prohibit them from making any copies of\n",
        "your copyrighted material outside their relationship with you.\n",
        "\n",
        "  Conveying under any other circumstances is permitted solely under\n",
        "the conditions stated below.  Sublicensing is not allowed; section 10\n",
        "makes it unnecessary.\n",
        "\n",
        "  3. Protecting Users' Legal Rights From Anti-Circumvention Law.\n",
        "\n",
        "  No covered work shall be deemed part of an effective technological\n",
        "measure under any applicable law fulfilling obligations under article\n",
        "11 of the WIPO copyright treaty adopted on 20 December 1996, or\n",
        "similar laws prohibiting or restricting circumvention of such\n",
        "measures.\n",
        "\n",
        "  When you convey a covered work, you waive any legal power to forbid\n",
        "circumvention of technological measures to the extent such circumvention\n",
        "is effected by exercising rights under this License with respect to\n",
        "the covered work, and you disclaim any intention to limit operation or\n",
        "modification of the work as a means of enforcing, against the work's\n",
        "users, your or third parties' legal rights to forbid circumvention of\n",
        "technological measures.\n",
        "\n",
        "  4. Conveying Verbatim Copies.\n",
        "\n",
        "  You may convey verbatim copies of the Program's source code as you\n",
        "receive it, in any medium, provided that you conspicuously and\n",
        "appropriately publish on each copy an appropriate copyright notice;\n",
        "keep intact all notices stating that this License and any\n",
        "non-permissive terms added in accord with section 7 apply to the code;\n",
        "keep intact all notices of the absence of any warranty; and give all\n",
        "recipients a copy of this License along with the Program.\n",
        "\n",
        "  You may charge any price or no price for each copy that you convey,\n",
        "and you may offer support or warranty protection for a fee.\n",
        "\n",
        "  5. Conveying Modified Source Versions.\n",
        "\n",
        "  You may convey a work based on the Program, or the modifications to\n",
        "produce it from the Program, in the form of source code under the\n",
        "terms of section 4, provided that you also meet all of these conditions:\n",
        "\n",
        "    a) The work must carry prominent notices stating that you modified\n",
        "    it, and giving a relevant date.\n",
        "\n",
        "    b) The work must carry prominent notices stating that it is\n",
        "    released under this License and any conditions added under section\n",
        "    7.  This requirement modifies the requirement in section 4 to\n",
        "    \"keep intact all notices\".\n",
        "\n",
        "    c) You must license the entire work, as a whole, under this\n",
        "    License to anyone who comes into possession of a copy.  This\n",
        "    License will therefore apply, along with any applicable section 7\n",
        "    additional terms, to the whole of the work, and all its parts,\n",
        "    regardless of how they are packaged.  This License gives no\n",
        "    permission to license the work in any other way, but it does not\n",
        "    invalidate such permission if you have separately received it.\n",
        "\n",
        "    d) If the work has interactive user interfaces, each must display\n",
        "    Appropriate Legal Notices; however, if the Program has interactive\n",
        "    interfaces that do not display Appropriate Legal Notices, your\n",
        "    work need not make them do so.\n",
        "\n",
        "  A compilation of a covered work with other separate and independent\n",
        "works, which are not by their nature extensions of the covered work,\n",
        "and which are not combined with it such as to form a larger program,\n",
        "in or on a volume of a storage or distribution medium, is called an\n",
        "\"aggregate\" if the compilation and its resulting copyright are not\n",
        "used to limit the access or legal rights of the compilation's users\n",
        "beyond what the individual works permit.  Inclusion of a covered work\n",
        "in an aggregate does not cause this License to apply to the other\n",
        "parts of the aggregate.\n",
        "\n",
        "  6. Conveying Non-Source Forms.\n",
        "\n",
        "  You may convey a covered work in object code form under the terms\n",
        "of sections 4 and 5, provided that you also convey the\n",
        "machine-readable Corresponding Source under the terms of this License,\n",
        "in one of these ways:\n",
        "\n",
        "    a) Convey the object code in, or embodied in, a physical product\n",
        "    (including a physical distribution medium), accompanied by the\n",
        "    Corresponding Source fixed on a durable physical medium\n",
        "    customarily used for software interchange.\n",
        "\n",
        "    b) Convey the object code in, or embodied in, a physical product\n",
        "    (including a physical distribution medium), accompanied by a\n",
        "    written offer, valid for at least three years and valid for as\n",
        "    long as you offer spare parts or customer support for that product\n",
        "    model, to give anyone who possesses the object code either (1) a\n",
        "    copy of the Corresponding Source for all the software in the\n",
        "    product that is covered by this License, on a durable physical\n",
        "    medium customarily used for software interchange, for a price no\n",
        "    more than your reasonable cost of physically performing this\n",
        "    conveying of source, or (2) access to copy the\n",
        "    Corresponding Source from a network server at no charge.\n",
        "\n",
        "    c) Convey individual copies of the object code with a copy of the\n",
        "    written offer to provide the Corresponding Source.  This\n",
        "    alternative is allowed only occasionally and noncommercially, and\n",
        "    only if you received the object code with such an offer, in accord\n",
        "    with subsection 6b.\n",
        "\n",
        "    d) Convey the object code by offering access from a designated\n",
        "    place (gratis or for a charge), and offer equivalent access to the\n",
        "    Corresponding Source in the same way through the same place at no\n",
        "    further charge.  You need not require recipients to copy the\n",
        "    Corresponding Source along with the object code.  If the place to\n",
        "    copy the object code is a network server, the Corresponding Source\n",
        "    may be on a different server (operated by you or a third party)\n",
        "    that supports equivalent copying facilities, provided you maintain\n",
        "    clear directions next to the object code saying where to find the\n",
        "    Corresponding Source.  Regardless of what server hosts the\n",
        "    Corresponding Source, you remain obligated to ensure that it is\n",
        "    available for as long as needed to satisfy these requirements.\n",
        "\n",
        "    e) Convey the object code using peer-to-peer transmission, provided\n",
        "    you inform other peers where the object code and Corresponding\n",
        "    Source of the work are being offered to the general public at no\n",
        "    charge under subsection 6d.\n",
        "\n",
        "  A separable portion of the object code, whose source code is excluded\n",
        "from the Corresponding Source as a System Library, need not be\n",
        "included in conveying the object code work.\n",
        "\n",
        "  A \"User Product\" is either (1) a \"consumer product\", which means any\n",
        "tangible personal property which is normally used for personal, family,\n",
        "or household purposes, or (2) anything designed or sold for incorporation\n",
        "into a dwelling.  In determining whether a product is a consumer product,\n",
        "doubtful cases shall be resolved in favor of coverage.  For a particular\n",
        "product received by a particular user, \"normally used\" refers to a\n",
        "typical or common use of that class of product, regardless of the status\n",
        "of the particular user or of the way in which the particular user\n",
        "actually uses, or expects or is expected to use, the product.  A product\n",
        "is a consumer product regardless of whether the product has substantial\n",
        "commercial, industrial or non-consumer uses, unless such uses represent\n",
        "the only significant mode of use of the product.\n",
        "\n",
        "  \"Installation Information\" for a User Product means any methods,\n",
        "procedures, authorization keys, or other information required to install\n",
        "and execute modified versions of a covered work in that User Product from\n",
        "a modified version of its Corresponding Source.  The information must\n",
        "suffice to ensure that the continued functioning of the modified object\n",
        "code is in no case prevented or interfered with solely because\n",
        "modification has been made.\n",
        "\n",
        "  If you convey an object code work under this section in, or with, or\n",
        "specifically for use in, a User Product, and the conveying occurs as\n",
        "part of a transaction in which the right of possession and use of the\n",
        "User Product is transferred to the recipient in perpetuity or for a\n",
        "fixed term (regardless of how the transaction is characterized), the\n",
        "Corresponding Source conveyed under this section must be accompanied\n",
        "by the Installation Information.  But this requirement does not apply\n",
        "if neither you nor any third party retains the ability to install\n",
        "modified object code on the User Product (for example, the work has\n",
        "been installed in ROM).\n",
        "\n",
        "  The requirement to provide Installation Information does not include a\n",
        "requirement to continue to provide support service, warranty, or updates\n",
        "for a work that has been modified or installed by the recipient, or for\n",
        "the User Product in which it has been modified or installed.  Access to a\n",
        "network may be denied when the modification itself materially and\n",
        "adversely affects the operation of the network or violates the rules and\n",
        "protocols for communication across the network.\n",
        "\n",
        "  Corresponding Source conveyed, and Installation Information provided,\n",
        "in accord with this section must be in a format that is publicly\n",
        "documented (and with an implementation available to the public in\n",
        "source code form), and must require no special password or key for\n",
        "unpacking, reading or copying.\n",
        "\n",
        "  7. Additional Terms.\n",
        "\n",
        "  \"Additional permissions\" are terms that supplement the terms of this\n",
        "License by making exceptions from one or more of its conditions.\n",
        "Additional permissions that are applicable to the entire Program shall\n",
        "be treated as though they were included in this License, to the extent\n",
        "that they are valid under applicable law.  If additional permissions\n",
        "apply only to part of the Program, that part may be used separately\n",
        "under those permissions, but the entire Program remains governed by\n",
        "this License without regard to the additional permissions.\n",
        "\n",
        "  When you convey a copy of a covered work, you may at your option\n",
        "remove any additional permissions from that copy, or from any part of\n",
        "it.  (Additional permissions may be written to require their own\n",
        "removal in certain cases when you modify the work.)  You may place\n",
        "additional permissions on material, added by you to a covered work,\n",
        "for which you have or can give appropriate copyright permission.\n",
        "\n",
        "  Notwithstanding any other provision of this License, for material you\n",
        "add to a covered work, you may (if authorized by the copyright holders of\n",
        "that material) supplement the terms of this License with terms:\n",
        "\n",
        "    a) Disclaiming warranty or limiting liability differently from the\n",
        "    terms of sections 15 and 16 of this License; or\n",
        "\n",
        "    b) Requiring preservation of specified reasonable legal notices or\n",
        "    author attributions in that material or in the Appropriate Legal\n",
        "    Notices displayed by works containing it; or\n",
        "\n",
        "    c) Prohibiting misrepresentation of the origin of that material, or\n",
        "    requiring that modified versions of such material be marked in\n",
        "    reasonable ways as different from the original version; or\n",
        "\n",
        "    d) Limiting the use for publicity purposes of names of licensors or\n",
        "    authors of the material; or\n",
        "\n",
        "    e) Declining to grant rights under trademark law for use of some\n",
        "    trade names, trademarks, or service marks; or\n",
        "\n",
        "    f) Requiring indemnification of licensors and authors of that\n",
        "    material by anyone who conveys the material (or modified versions of\n",
        "    it) with contractual assumptions of liability to the recipient, for\n",
        "    any liability that these contractual assumptions directly impose on\n",
        "    those licensors and authors.\n",
        "\n",
        "  All other non-permissive additional terms are considered \"further\n",
        "restrictions\" within the meaning of section 10.  If the Program as you\n",
        "received it, or any part of it, contains a notice stating that it is\n",
        "governed by this License along with a term that is a further\n",
        "restriction, you may remove that term.  If a license document contains\n",
        "a further restriction but permits relicensing or conveying under this\n",
        "License, you may add to a covered work material governed by the terms\n",
        "of that license document, provided that the further restriction does\n",
        "not survive such relicensing or conveying.\n",
        "\n",
        "  If you add terms to a covered work in accord with this section, you\n",
        "must place, in the relevant source files, a statement of the\n",
        "additional terms that apply to those files, or a notice indicating\n",
        "where to find the applicable terms.\n",
        "\n",
        "  Additional terms, permissive or non-permissive, may be stated in the\n",
        "form of a separately written license, or stated as exceptions;\n",
        "the above requirements apply either way.\n",
        "\n",
        "  8. Termination.\n",
        "\n",
        "  You may not propagate or modify a covered work except as expressly\n",
        "provided under this License.  Any attempt otherwise to propagate or\n",
        "modify it is void, and will automatically terminate your rights under\n",
        "this License (including any patent licenses granted under the third\n",
        "paragraph of section 11).\n",
        "\n",
        "  However, if you cease all violation of this License, then your\n",
        "license from a particular copyright holder is reinstated (a)\n",
        "provisionally, unless and until the copyright holder explicitly and\n",
        "finally terminates your license, and (b) permanently, if the copyright\n",
        "holder fails to notify you of the violation by some reasonable means\n",
        "prior to 60 days after the cessation.\n",
        "\n",
        "  Moreover, your license from a particular copyright holder is\n",
        "reinstated permanently if the copyright holder notifies you of the\n",
        "violation by some reasonable means, this is the first time you have\n",
        "received notice of violation of this License (for any work) from that\n",
        "copyright holder, and you cure the violation prior to 30 days after\n",
        "your receipt of the notice.\n",
        "\n",
        "  Termination of your rights under this section does not terminate the\n",
        "licenses of parties who have received copies or rights from you under\n",
        "this License.  If your rights have been terminated and not permanently\n",
        "reinstated, you do not qualify to receive new licenses for the same\n",
        "material under section 10.\n",
        "\n",
        "  9. Acceptance Not Required for Having Copies.\n",
        "\n",
        "  You are not required to accept this License in order to receive or\n",
        "run a copy of the Program.  Ancillary propagation of a covered work\n",
        "occurring solely as a consequence of using peer-to-peer transmission\n",
        "to receive a copy likewise does not require acceptance.  However,\n",
        "nothing other than this License grants you permission to propagate or\n",
        "modify any covered work.  These actions infringe copyright if you do\n",
        "not accept this License.  Therefore, by modifying or propagating a\n",
        "covered work, you indicate your acceptance of this License to do so.\n",
        "\n",
        "  10. Automatic Licensing of Downstream Recipients.\n",
        "\n",
        "  Each time you convey a covered work, the recipient automatically\n",
        "receives a license from the original licensors, to run, modify and\n",
        "propagate that work, subject to this License.  You are not responsible\n",
        "for enforcing compliance by third parties with this License.\n",
        "\n",
        "  An \"entity transaction\" is a transaction transferring control of an\n",
        "organization, or substantially all assets of one, or subdividing an\n",
        "organization, or merging organizations.  If propagation of a covered\n",
        "work results from an entity transaction, each party to that\n",
        "transaction who receives a copy of the work also receives whatever\n",
        "licenses to the work the party's predecessor in interest had or could\n",
        "give under the previous paragraph, plus a right to possession of the\n",
        "Corresponding Source of the work from the predecessor in interest, if\n",
        "the predecessor has it or can get it with reasonable efforts.\n",
        "\n",
        "  You may not impose any further restrictions on the exercise of the\n",
        "rights granted or affirmed under this License.  For example, you may\n",
        "not impose a license fee, royalty, or other charge for exercise of\n",
        "rights granted under this License, and you may not initiate litigation\n",
        "(including a cross-claim or counterclaim in a lawsuit) alleging that\n",
        "any patent claim is infringed by making, using, selling, offering for\n",
        "sale, or importing the Program or any portion of it.\n",
        "\n",
        "  11. Patents.\n",
        "\n",
        "  A \"contributor\" is a copyright holder who authorizes use under this\n",
        "License of the Program or a work on which the Program is based.  The\n",
        "work thus licensed is called the contributor's \"contributor version\".\n",
        "\n",
        "  A contributor's \"essential patent claims\" are all patent claims\n",
        "owned or controlled by the contributor, whether already acquired or\n",
        "hereafter acquired, that would be infringed by some manner, permitted\n",
        "by this License, of making, using, or selling its contributor version,\n",
        "but do not include claims that would be infringed only as a\n",
        "consequence of further modification of the contributor version.  For\n",
        "purposes of this definition, \"control\" includes the right to grant\n",
        "patent sublicenses in a manner consistent with the requirements of\n",
        "this License.\n",
        "\n",
        "  Each contributor grants you a non-exclusive, worldwide, royalty-free\n",
        "patent license under the contributor's essential patent claims, to\n",
        "make, use, sell, offer for sale, import and otherwise run, modify and\n",
        "propagate the contents of its contributor version.\n",
        "\n",
        "  In the following three paragraphs, a \"patent license\" is any express\n",
        "agreement or commitment, however denominated, not to enforce a patent\n",
        "(such as an express permission to practice a patent or covenant not to\n",
        "sue for patent infringement).  To \"grant\" such a patent license to a\n",
        "party means to make such an agreement or commitment not to enforce a\n",
        "patent against the party.\n",
        "\n",
        "  If you convey a covered work, knowingly relying on a patent license,\n",
        "and the Corresponding Source of the work is not available for anyone\n",
        "to copy, free of charge and under the terms of this License, through a\n",
        "publicly available network server or other readily accessible means,\n",
        "then you must either (1) cause the Corresponding Source to be so\n",
        "available, or (2) arrange to deprive yourself of the benefit of the\n",
        "patent license for this particular work, or (3) arrange, in a manner\n",
        "consistent with the requirements of this License, to extend the patent\n",
        "license to downstream recipients.  \"Knowingly relying\" means you have\n",
        "actual knowledge that, but for the patent license, your conveying the\n",
        "covered work in a country, or your recipient's use of the covered work\n",
        "in a country, would infringe one or more identifiable patents in that\n",
        "country that you have reason to believe are valid.\n",
        "\n",
        "  If, pursuant to or in connection with a single transaction or\n",
        "arrangement, you convey, or propagate by procuring conveyance of, a\n",
        "covered work, and grant a patent license to some of the parties\n",
        "receiving the covered work authorizing them to use, propagate, modify\n",
        "or convey a specific copy of the covered work, then the patent license\n",
        "you grant is automatically extended to all recipients of the covered\n",
        "work and works based on it.\n",
        "\n",
        "  A patent license is \"discriminatory\" if it does not include within\n",
        "the scope of its coverage, prohibits the exercise of, or is\n",
        "conditioned on the non-exercise of one or more of the rights that are\n",
        "specifically granted under this License.  You may not convey a covered\n",
        "work if you are a party to an arrangement with a third party that is\n",
        "in the business of distributing software, under which you make payment\n",
        "to the third party based on the extent of your activity of conveying\n",
        "the work, and under which the third party grants, to any of the\n",
        "parties who would receive the covered work from you, a discriminatory\n",
        "patent license (a) in connection with copies of the covered work\n",
        "conveyed by you (or copies made from those copies), or (b) primarily\n",
        "for and in connection with specific products or compilations that\n",
        "contain the covered work, unless you entered into that arrangement,\n",
        "or that patent license was granted, prior to 28 March 2007.\n",
        "\n",
        "  Nothing in this License shall be construed as excluding or limiting\n",
        "any implied license or other defenses to infringement that may\n",
        "otherwise be available to you under applicable patent law.\n",
        "\n",
        "  12. No Surrender of Others' Freedom.\n",
        "\n",
        "  If conditions are imposed on you (whether by court order, agreement or\n",
        "otherwise) that contradict the conditions of this License, they do not\n",
        "excuse you from the conditions of this License.  If you cannot convey a\n",
        "covered work so as to satisfy simultaneously your obligations under this\n",
        "License and any other pertinent obligations, then as a consequence you may\n",
        "not convey it at all.  For example, if you agree to terms that obligate you\n",
        "to collect a royalty for further conveying from those to whom you convey\n",
        "the Program, the only way you could satisfy both those terms and this\n",
        "License would be to refrain entirely from conveying the Program.\n",
        "\n",
        "  13. Use with the GNU Affero General Public License.\n",
        "\n",
        "  Notwithstanding any other provision of this License, you have\n",
        "permission to link or combine any covered work with a work licensed\n",
        "under version 3 of the GNU Affero General Public License into a single\n",
        "combined work, and to convey the resulting work.  The terms of this\n",
        "License will continue to apply to the part which is the covered work,\n",
        "but the special requirements of the GNU Affero General Public License,\n",
        "section 13, concerning interaction through a network will apply to the\n",
        "combination as such.\n",
        "\n",
        "  14. Revised Versions of this License.\n",
        "\n",
        "  The Free Software Foundation may publish revised and/or new versions of\n",
        "the GNU General Public License from time to time.  Such new versions will\n",
        "be similar in spirit to the present version, but may differ in detail to\n",
        "address new problems or concerns.\n",
        "\n",
        "  Each version is given a distinguishing version number.  If the\n",
        "Program specifies that a certain numbered version of the GNU General\n",
        "Public License \"or any later version\" applies to it, you have the\n",
        "option of following the terms and conditions either of that numbered\n",
        "version or of any later version published by the Free Software\n",
        "Foundation.  If the Program does not specify a version number of the\n",
        "GNU General Public License, you may choose any version ever published\n",
        "by the Free Software Foundation.\n",
        "\n",
        "  If the Program specifies that a proxy can decide which future\n",
        "versions of the GNU General Public License can be used, that proxy's\n",
        "public statement of acceptance of a version permanently authorizes you\n",
        "to choose that version for the Program.\n",
        "\n",
        "  Later license versions may give you additional or different\n",
        "permissions.  However, no additional obligations are imposed on any\n",
        "author or copyright holder as a result of your choosing to follow a\n",
        "later version.\n",
        "\n",
        "  15. Disclaimer of Warranty.\n",
        "\n",
        "  THERE IS NO WARRANTY FOR THE PROGRAM, TO THE EXTENT PERMITTED BY\n",
        "APPLICABLE LAW.  EXCEPT WHEN OTHERWISE STATED IN WRITING THE COPYRIGHT\n",
        "HOLDERS AND/OR OTHER PARTIES PROVIDE THE PROGRAM \"AS IS\" WITHOUT WARRANTY\n",
        "OF ANY KIND, EITHER EXPRESSED OR IMPLIED, INCLUDING, BUT NOT LIMITED TO,\n",
        "THE IMPLIED WARRANTIES OF MERCHANTABILITY AND FITNESS FOR A PARTICULAR\n",
        "PURPOSE.  THE ENTIRE RISK AS TO THE QUALITY AND PERFORMANCE OF THE PROGRAM\n",
        "IS WITH YOU.  SHOULD THE PROGRAM PROVE DEFECTIVE, YOU ASSUME THE COST OF\n",
        "ALL NECESSARY SERVICING, REPAIR OR CORRECTION.\n",
        "\n",
        "  16. Limitation of Liability.\n",
        "\n",
        "  IN NO EVENT UNLESS REQUIRED BY APPLICABLE LAW OR AGREED TO IN WRITING\n",
        "WILL ANY COPYRIGHT HOLDER, OR ANY OTHER PARTY WHO MODIFIES AND/OR CONVEYS\n",
        "THE PROGRAM AS PERMITTED ABOVE, BE LIABLE TO YOU FOR DAMAGES, INCLUDING ANY\n",
        "GENERAL, SPECIAL, INCIDENTAL OR CONSEQUENTIAL DAMAGES ARISING OUT OF THE\n",
        "USE OR INABILITY TO USE THE PROGRAM (INCLUDING BUT NOT LIMITED TO LOSS OF\n",
        "DATA OR DATA BEING RENDERED INACCURATE OR LOSSES SUSTAINED BY YOU OR THIRD\n",
        "PARTIES OR A FAILURE OF THE PROGRAM TO OPERATE WITH ANY OTHER PROGRAMS),\n",
        "EVEN IF SUCH HOLDER OR OTHER PARTY HAS BEEN ADVISED OF THE POSSIBILITY OF\n",
        "SUCH DAMAGES.\n",
        "\n",
        "  17. Interpretation of Sections 15 and 16.\n",
        "\n",
        "  If the disclaimer of warranty and limitation of liability provided\n",
        "above cannot be given local legal effect according to their terms,\n",
        "reviewing courts shall apply local law that most closely approximates\n",
        "an absolute waiver of all civil liability in connection with the\n",
        "Program, unless a warranty or assumption of liability accompanies a\n",
        "copy of the Program in return for a fee.\n",
        "\n",
        "                     END OF TERMS AND CONDITIONS\n",
        "\n",
        "            How to Apply These Terms to Your New Programs\n",
        "\n",
        "  If you develop a new program, and you want it to be of the greatest\n",
        "possible use to the public, the best way to achieve this is to make it\n",
        "free software which everyone can redistribute and change under these terms.\n",
        "\n",
        "  To do so, attach the following notices to the program.  It is safest\n",
        "to attach them to the start of each source file to most effectively\n",
        "state the exclusion of warranty; and each file should have at least\n",
        "the \"copyright\" line and a pointer to where the full notice is found.\n",
        "\n",
        "    <one line to give the program's name and a brief idea of what it does.>\n",
        "    Copyright (C) <year>  <name of author>\n",
        "\n",
        "    This program is free software: you can redistribute it and/or modify\n",
        "    it under the terms of the GNU General Public License as published by\n",
        "    the Free Software Foundation, either version 3 of the License, or\n",
        "    (at your option) any later version.\n",
        "\n",
        "    This program is distributed in the hope that it will be useful,\n",
        "    but WITHOUT ANY WARRANTY; without even the implied warranty of\n",
        "    MERCHANTABILITY or FITNESS FOR A PARTICULAR PURPOSE.  See the\n",
        "    GNU General Public License for more details.\n",
        "\n",
        "    You should have received a copy of the GNU General Public License\n",
        "    along with this program.  If not, see <https://www.gnu.org/licenses/>.\n",
        "\n",
        "Also add information on how to contact you by electronic and paper mail.\n",
        "\n",
        "  If the program does terminal interaction, make it output a short\n",
        "notice like this when it starts in an interactive mode:\n",
        "\n",
        "    <program>  Copyright (C) <year>  <name of author>\n",
        "    This program comes with ABSOLUTELY NO WARRANTY; for details type `show w'.\n",
        "    This is free software, and you are welcome to redistribute it\n",
        "    under certain conditions; type `show c' for details.\n",
        "\n",
        "The hypothetical commands `show w' and `show c' should show the appropriate\n",
        "parts of the General Public License.  Of course, your program's commands\n",
        "might be different; for a GUI interface, you would use an \"about box\".\n",
        "\n",
        "  You should also get your employer (if you work as a programmer) or school,\n",
        "if any, to sign a \"copyright disclaimer\" for the program, if necessary.\n",
        "For more information on this, and how to apply and follow the GNU GPL, see\n",
        "<https://www.gnu.org/licenses/>.\n",
        "\n",
        "  The GNU General Public License does not permit incorporating your program\n",
        "into proprietary programs.  If your program is a subroutine library, you\n",
        "may consider it more useful to permit linking proprietary applications with\n",
        "the library.  If this is what you want to do, use the GNU Lesser General\n",
        "Public License instead of this License.  But first, please read\n",
        "<https://www.gnu.org/licenses/why-not-lgpl.html>.\n"
      ],
      "metadata": {
        "id": "0pbzG6ukhlzY"
      }
    }
  ],
  "metadata": {
    "accelerator": "GPU",
    "colab": {
      "gpuType": "T4",
      "provenance": []
    },
    "kernelspec": {
      "display_name": "Python 3",
      "name": "python3"
    },
    "language_info": {
      "name": "python"
    }
  },
  "nbformat": 4,
  "nbformat_minor": 0
}